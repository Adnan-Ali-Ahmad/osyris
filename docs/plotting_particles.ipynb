{
 "cells": [
  {
   "cell_type": "markdown",
   "metadata": {},
   "source": [
    "# Particles"
   ]
  },
  {
   "cell_type": "code",
   "execution_count": null,
   "metadata": {},
   "outputs": [],
   "source": [
    "import numpy as np\n",
    "import osyris"
   ]
  },
  {
   "cell_type": "code",
   "execution_count": null,
   "metadata": {},
   "outputs": [],
   "source": [
    "%matplotlib widget"
   ]
  },
  {
   "cell_type": "code",
   "execution_count": null,
   "metadata": {},
   "outputs": [],
   "source": [
    "path = \"osyrisdata/cosmology\"\n",
    "data = osyris.Dataset(100, scale=\"Mpc\", path=path).load('part')"
   ]
  },
  {
   "cell_type": "code",
   "execution_count": null,
   "metadata": {},
   "outputs": [],
   "source": [
    "osyris.histogram2d(data[\"part\"][\"position\"].x,\n",
    "                   data[\"part\"][\"position\"].y,\n",
    "                   resolution=512, norm=\"log\")"
   ]
  },
  {
   "cell_type": "code",
   "execution_count": null,
   "metadata": {},
   "outputs": [],
   "source": [
    "import pythreejs as p3\n",
    "geometry = p3.BufferGeometry(\n",
    "    attributes={\n",
    "        'position': p3.BufferAttribute(array=data[\"part\"][\"position\"].values / 10. - 7.5)\n",
    "    })\n",
    "material = p3.PointsMaterial(color='black', size=0.1)\n",
    "points = p3.Points(geometry=geometry, material=material)\n",
    "view_width = 800\n",
    "view_height = 500\n",
    "camera = p3.PerspectiveCamera(position=[20.0, 0, 0], aspect=view_width/view_height)\n",
    "scene = p3.Scene(children=[points, camera], background=\"#DDDDDD\")\n",
    "controller = p3.OrbitControls(controlling=camera)\n",
    "renderer = p3.Renderer(camera=camera, scene=scene, controls=[controller],\n",
    "                    width=view_width, height=view_height)\n",
    "renderer"
   ]
  }
 ],
 "metadata": {
  "kernelspec": {
   "display_name": "Python 3 (ipykernel)",
   "language": "python",
   "name": "python3"
  },
  "language_info": {
   "codemirror_mode": {
    "name": "ipython",
    "version": 3
   },
   "file_extension": ".py",
   "mimetype": "text/x-python",
   "name": "python",
   "nbconvert_exporter": "python",
   "pygments_lexer": "ipython3",
   "version": "3.9.5"
  }
 },
 "nbformat": 4,
 "nbformat_minor": 4
}
