{
 "cells": [
  {
   "cell_type": "markdown",
   "metadata": {},
   "source": [
    "# Plotting\n",
    "\n",
    "A good way to illustrate the plotting possibilities is through a long list of demos.\n",
    "\n",
    "Note that Osyris's plotting functions are wrapping Matplotlib's plotting functions,\n",
    "and forwards most Matplotlib arguments to the underlying function."
   ]
  },
  {
   "cell_type": "code",
   "execution_count": null,
   "metadata": {},
   "outputs": [],
   "source": [
    "import osyris\n",
    "import numpy as np\n",
    "import matplotlib.pyplot as plt\n",
    "\n",
    "path = \"osyrisdata/starformation\"\n",
    "data = osyris.Dataset(8, scale=\"au\", path=path).load()\n",
    "ind = np.argmax(data[\"hydro\"][\"density\"])\n",
    "center = data[\"amr\"][\"xyz\"][ind.values]"
   ]
  },
  {
   "cell_type": "markdown",
   "metadata": {},
   "source": [
    "## A 2D histogram of density vs magnetic field\n",
    "\n",
    "By default, the `histogram2d` function will show a binned count of cells"
   ]
  },
  {
   "cell_type": "code",
   "execution_count": null,
   "metadata": {},
   "outputs": [],
   "source": [
    "osyris.histogram2d(data[\"hydro\"][\"density\"], data[\"hydro\"][\"B_field\"],\n",
    "                   norm=\"log\", loglog=True)"
   ]
  },
  {
   "cell_type": "markdown",
   "metadata": {},
   "source": [
    "Additional components can be overlayed using `layers`:"
   ]
  },
  {
   "cell_type": "code",
   "execution_count": null,
   "metadata": {},
   "outputs": [],
   "source": [
    "osyris.histogram2d(\n",
    "    data[\"hydro\"][\"density\"], data[\"hydro\"][\"B_field\"],\n",
    "    {\"data\": data[\"hydro\"][\"mass\"], \"norm\": \"log\"}, # layer 1\n",
    "    {\"data\": data[\"amr\"][\"level\"], \"operation\": \"mean\",\n",
    "     \"mode\": \"contour\", \"colors\": \"k\"}, # layer 2\n",
    "    loglog=True)"
   ]
  },
  {
   "cell_type": "markdown",
   "metadata": {},
   "source": [
    "## Simple 2D slice\n",
    "\n",
    "Create a 2D map of a gas density slice 2000 au wide through the plane normal to `z`,\n",
    "with velocity vectors overlayed as arrows, once agains using `layers`:"
   ]
  },
  {
   "cell_type": "code",
   "execution_count": null,
   "metadata": {},
   "outputs": [],
   "source": [
    "osyris.map({\"data\": data[\"hydro\"][\"density\"], \"norm\": \"log\"}, # layer 1\n",
    "           {\"data\": data[\"hydro\"][\"velocity\"], \"mode\": \"vec\"}, # layer 2\n",
    "           dx=2000 * osyris.units(\"au\"),\n",
    "           origin=center,\n",
    "           direction=\"z\")"
   ]
  },
  {
   "cell_type": "markdown",
   "metadata": {},
   "source": [
    "## Controlling the resolution\n",
    "\n",
    "By default, the histograms and the maps have a resolution of 256x256 pixels.\n",
    "This can be changed via the keyword argument `resolution`,\n",
    "which can either be an integer (in which case the same resolution is applied to both the x and y dimension)\n",
    "or a dict."
   ]
  },
  {
   "cell_type": "code",
   "execution_count": null,
   "metadata": {},
   "outputs": [],
   "source": [
    "# Create figure\n",
    "fig, ax = plt.subplots(1, 2, figsize=(12, 4.5))\n",
    "\n",
    "osyris.histogram2d(data[\"hydro\"][\"density\"], data[\"hydro\"][\"B_field\"],\n",
    "                   norm=\"log\", loglog=True, ax=ax[0],\n",
    "                   resolution=64)\n",
    "\n",
    "osyris.map({\"data\": data[\"hydro\"][\"density\"], \"norm\": \"log\"},\n",
    "           dx=2000 * osyris.units(\"au\"),\n",
    "           dy=1000 * osyris.units(\"au\"),\n",
    "           origin=center, direction=\"z\", ax=ax[1],\n",
    "           resolution={'x': 512, 'y': 256})\n",
    "\n",
    "ax[1].set_aspect(\"equal\")"
   ]
  },
  {
   "cell_type": "markdown",
   "metadata": {},
   "source": [
    "## Cut plane at an arbitrary angle\n",
    "\n",
    "The `map` function will also accept a vector to define the normal direction to the plane.\n",
    "In this example, we also change the colormap."
   ]
  },
  {
   "cell_type": "code",
   "execution_count": null,
   "metadata": {},
   "outputs": [],
   "source": [
    "osyris.map({\"data\": data[\"hydro\"][\"density\"], \"norm\": \"log\"},\n",
    "           {\"data\": data[\"hydro\"][\"velocity\"], \"mode\": \"vec\"},\n",
    "           dx=500 * osyris.units(\"au\"),\n",
    "           origin=center,\n",
    "           direction=[-1, 1, 3],\n",
    "           cmap=\"magma\")"
   ]
  },
  {
   "cell_type": "markdown",
   "metadata": {},
   "source": [
    "## Automatic “top/side” slice orientation according to angular momentum\n",
    "\n",
    "Create a 2D slice of the logarithm of density 500 au wide using automatic orientation based on the angular momentum in the data.\n",
    "This is useful for looking at disks.\n",
    "Use the `\"top\"` direction for the slice to view the disk from above"
   ]
  },
  {
   "cell_type": "code",
   "execution_count": null,
   "metadata": {},
   "outputs": [],
   "source": [
    "osyris.map({\"data\": data[\"hydro\"][\"density\"], \"norm\": \"log\"},\n",
    "           {\"data\": data[\"hydro\"][\"velocity\"], \"mode\": \"vec\"},\n",
    "           dx=500 * osyris.units(\"au\"),\n",
    "           origin=center,\n",
    "           direction=\"top\")"
   ]
  },
  {
   "cell_type": "markdown",
   "metadata": {},
   "source": [
    "Use the `direction=\"side\"` for the slice to view the disk from the side"
   ]
  },
  {
   "cell_type": "code",
   "execution_count": null,
   "metadata": {},
   "outputs": [],
   "source": [
    "osyris.map({\"data\": data[\"hydro\"][\"density\"], \"norm\": \"log\"},\n",
    "           {\"data\": data[\"hydro\"][\"velocity\"], \"mode\": \"vec\"},\n",
    "           dx=500 * osyris.units(\"au\"),\n",
    "           origin=center,\n",
    "           direction=\"side\")"
   ]
  },
  {
   "cell_type": "markdown",
   "metadata": {},
   "source": [
    "## Embedding plots in existing Matplotlib axes\n",
    "\n",
    "In this example, we create two subplot axes with Matplotlib.\n",
    "\n",
    "Next, we plot in the left panel the log of density as a coloured slice with velocity vectors.\n",
    "The minimum and maximum of $\\log(\\rho)$ are forced to `-17` and `-11`.\n",
    "We give the `map` call the axes to use via the `ax` argument.\n",
    "Next, we overlay some custom chosen density contours with different line styles and colours.\n",
    "\n",
    "In the right panel, we plot a plane of temperature and overlay some lightgray contours showing the AMR levels.\n",
    "We specify only integer contour levels."
   ]
  },
  {
   "cell_type": "code",
   "execution_count": null,
   "metadata": {},
   "outputs": [],
   "source": [
    "# Create figure\n",
    "fig, ax = plt.subplots(1, 2, figsize=(12, 4.5))\n",
    "\n",
    "# Define region to plot\n",
    "dx = 2000.0 * osyris.units(\"au\")\n",
    "\n",
    "# Left plot: coloured density slice with overlayed contours\n",
    "osyris.map({\"data\": data[\"hydro\"][\"density\"], \"norm\": \"log\", \"vmin\": 1.0e-17, \"vmax\": 1.0e-11},\n",
    "           {\"data\": data[\"hydro\"][\"velocity\"], \"mode\": \"vec\"},\n",
    "           {\"data\": data[\"hydro\"][\"density\"], \"mode\": \"contour\",\n",
    "            \"levels\": [1.0e-17,1.0e-16,1.0e-12], \"colors\": ('yellow','k',\"lime\"),\n",
    "            \"linewidths\": [2,5,2], \"linestyles\": [\"solid\",\"dashed\",\"solid\"],\n",
    "            \"cmap\": None, \"labels\": False},\n",
    "           dx=dx, origin=center, direction=\"z\", ax=ax[0])\n",
    "\n",
    "osyris.map({\"data\": data[\"hydro\"][\"temperature\"], \"norm\": \"log\", \"mode\": \"contourf\",\n",
    "            \"levels\": np.logspace(0.9, 2, 11), \"cmap\": \"hot\"},\n",
    "           {\"data\": data[\"amr\"][\"level\"], \"mode\": \"contour\", \"colors\": \"w\", \"levels\": [6, 7, 8]},\n",
    "           dx=dx, origin=center, direction=\"z\", ax=ax[1])"
   ]
  },
  {
   "cell_type": "markdown",
   "metadata": {},
   "source": [
    "## Coloring vectors and streamlines\n",
    "\n",
    "In this example, we represent the velocity field as vectors (left) and as streamlines (right).\n",
    "The colours represent the magnitude of the velocity."
   ]
  },
  {
   "cell_type": "code",
   "execution_count": null,
   "metadata": {},
   "outputs": [],
   "source": [
    "fig, ax = plt.subplots(1, 2, figsize=(10, 3.5))\n",
    "plt.subplots_adjust(wspace=0.35)\n",
    "\n",
    "dx = 2000.0 * osyris.units(\"au\")\n",
    "\n",
    "osyris.map({\"data\": data[\"hydro\"][\"density\"], \"norm\": \"log\"},\n",
    "           {\"data\": data[\"hydro\"][\"velocity\"], \"mode\": \"vec\",\n",
    "            \"color\": data[\"hydro\"][\"velocity\"], \"cmap\": \"spring_r\", \"cbar\": False},\n",
    "           dx=dx, origin=center, direction=\"z\", ax=ax[0])\n",
    "osyris.map({\"data\": data[\"hydro\"][\"density\"], \"norm\": \"log\"},\n",
    "           {\"data\": data[\"hydro\"][\"velocity\"], \"mode\": \"stream\",\n",
    "            \"color\": data[\"hydro\"][\"velocity\"], \"cmap\": \"jet\", \"cbar\": False},\n",
    "           dx=dx, origin=center, direction=\"z\", ax=ax[1])"
   ]
  },
  {
   "cell_type": "markdown",
   "metadata": {},
   "source": [
    "## Plot only a subset of cells belonging to a disk\n",
    "\n",
    "In this example, we select cells according to their density and plot only those.\n",
    "This is done by creating a new field and using Numpy's `masked_where` function.\n",
    "To combine more than one selection criteria, we use Numpy's `logical_or` function.\n",
    "\n",
    "This is useful for plotting disks around protostars, for example.\n",
    "Here we select the cells with a density in the range\n",
    "$5 \\times 10^{-14}~\\text{g cm}^{-3} < \\rho < 5 \\times 10^{-12}~\\text{g cm}^{-3}$."
   ]
  },
  {
   "cell_type": "code",
   "execution_count": null,
   "metadata": {},
   "outputs": [],
   "source": [
    "data[\"hydro\"][\"disk_density\"] = osyris.Array(\n",
    "    np.ma.masked_where(np.logical_or(\n",
    "        data[\"hydro\"][\"density\"].values < 5.0e-14,\n",
    "        data[\"hydro\"][\"density\"].values > 5.0e-12),\n",
    "                       data[\"hydro\"][\"density\"].values),\n",
    "                       unit=data[\"hydro\"][\"density\"].unit)\n",
    "osyris.map(data[\"hydro\"][\"disk_density\"], dx=500 * osyris.units(\"au\"),\n",
    "           norm=\"log\", origin=center)"
   ]
  },
  {
   "cell_type": "markdown",
   "metadata": {},
   "source": [
    "Computing the disk mass can be achieved via"
   ]
  },
  {
   "cell_type": "code",
   "execution_count": null,
   "metadata": {},
   "outputs": [],
   "source": [
    "np.sum(data[\"hydro\"][\"disk_density\"]*(data[\"amr\"][\"dx\"]**3)).to(\"msun\")"
   ]
  },
  {
   "cell_type": "markdown",
   "metadata": {},
   "source": [
    "## Difference between two snapshots\n",
    "\n",
    "Here, we want to make a map of the difference in density between two snapshots.\n",
    "Because we do not necessarily have the same number of cells at the same place,\n",
    "we first have to make uniform 2D maps using the `map` function,\n",
    "which we can then directly compare.\n",
    "\n",
    "The `map` function actually returns an object that contains the raw data that was used to create the figure.\n",
    "By using the `plot=False` argument, we can silence the figure generation, and use the data in a custom figure.\n",
    "\n",
    "**Note:** For this to make sense, the two outputs have to be centered around the same center point."
   ]
  },
  {
   "cell_type": "code",
   "execution_count": null,
   "metadata": {},
   "outputs": [],
   "source": [
    "# Read data from an earlier snapshot\n",
    "data_old = osyris.Dataset(5, scale=\"au\", path=path).load()"
   ]
  },
  {
   "cell_type": "code",
   "execution_count": null,
   "metadata": {},
   "outputs": [],
   "source": [
    "dx = 2000 * osyris.units(\"au\")\n",
    "# Extract density slices by copying data into structures\n",
    "plane1 = osyris.map({\"data\": data[\"hydro\"][\"density\"], \"norm\": \"log\"},\n",
    "                    dx=dx, origin=center, direction=\"z\", plot=False)\n",
    "\n",
    "plane2 = osyris.map({\"data\": data_old[\"hydro\"][\"density\"], \"norm\": \"log\"},\n",
    "                    dx=dx, origin=center, direction=\"z\", plot=False)\n",
    "\n",
    "# Get x,y coordinates\n",
    "x = plane1.x\n",
    "y = plane1.y\n",
    "\n",
    "# Density difference\n",
    "rho1 = np.log10(plane1.layers[0][\"data\"])\n",
    "rho2 = np.log10(plane2.layers[0][\"data\"])\n",
    "diff = (rho1 - rho2) / rho2\n",
    "\n",
    "# Create figure\n",
    "fig, ax = plt.subplots()\n",
    "cf = ax.contourf(x, y , diff, cmap='RdBu',\n",
    "                 levels=np.linspace(-0.12,0.12,31))\n",
    "ax.set_aspect(\"equal\")\n",
    "cb = plt.colorbar(cf, ax=ax)\n",
    "cb.ax.set_ylabel(\"Relative difference\")"
   ]
  },
  {
   "cell_type": "markdown",
   "metadata": {},
   "source": [
    "## Slice above the origin\n",
    "\n",
    "We want to plot a slice of density but through a point which is 20 AU above the centre of the domain,\n",
    "defined as the cell with the highest density."
   ]
  },
  {
   "cell_type": "code",
   "execution_count": null,
   "metadata": {},
   "outputs": [],
   "source": [
    "origin = center.copy()\n",
    "origin.values[-1] += 20\n",
    "osyris.map({\"data\": data[\"hydro\"][\"density\"], \"norm\": \"log\"},\n",
    "           {\"data\": data[\"hydro\"][\"velocity\"], \"mode\": \"vec\"},\n",
    "           dx=500 * osyris.units(\"au\"),\n",
    "           origin=origin,\n",
    "           direction=\"z\")"
   ]
  },
  {
   "cell_type": "markdown",
   "metadata": {},
   "source": [
    "## Scatter plot\n",
    "\n",
    "Make a scatter plot of density vs temperature, with only 1 in 1000 cells.\n",
    "Colour the dots according to the magnitude of the gas velocity."
   ]
  },
  {
   "cell_type": "code",
   "execution_count": null,
   "metadata": {},
   "outputs": [],
   "source": [
    "step = 100\n",
    "osyris.scatter(data[\"hydro\"][\"density\"][::step],\n",
    "               data[\"hydro\"][\"velocity\"][::step],\n",
    "               c=data[\"hydro\"][\"thermal_pressure\"][::step],\n",
    "               norm=\"log\", loglog=True)"
   ]
  },
  {
   "cell_type": "markdown",
   "metadata": {},
   "source": [
    "## Sink particles\n",
    "\n",
    "Some star formation simulations contain sink particles,\n",
    "and these can be represented as a scatter layer on a plane plot. "
   ]
  },
  {
   "cell_type": "code",
   "execution_count": null,
   "metadata": {},
   "outputs": [],
   "source": [
    "osyris.map({\"data\": data[\"hydro\"][\"density\"], \"norm\": \"log\"}, # layer 1\n",
    "           {\"data\": data[\"sink\"][\"xyz\"], \"mode\": \"scatter\", \"c\": \"white\"}, # layer 2\n",
    "           dx=2000 * osyris.units(\"au\"),\n",
    "           origin=center,\n",
    "           direction=\"z\")"
   ]
  },
  {
   "cell_type": "markdown",
   "metadata": {},
   "source": [
    "## 2D data\n",
    "\n",
    "2D data can be loaded and viewed just like 3D data."
   ]
  },
  {
   "cell_type": "code",
   "execution_count": null,
   "metadata": {},
   "outputs": [],
   "source": [
    "data2d = osyris.Dataset(2, scale=\"cm\", path=\"osyrisdata/sedov\").load()\n",
    "osyris.map(data2d[\"hydro\"][\"density\"], norm=\"log\", cmap=\"jet\")"
   ]
  },
  {
   "cell_type": "markdown",
   "metadata": {},
   "source": [
    "## 1D histograms\n",
    "\n",
    "The `histogram1d` function provides a simple way to quickly make 1d histogram plots:"
   ]
  },
  {
   "cell_type": "code",
   "execution_count": null,
   "metadata": {},
   "outputs": [],
   "source": [
    "osyris.histogram1d(data[\"hydro\"][\"density\"], logx=True)"
   ]
  },
  {
   "cell_type": "markdown",
   "metadata": {},
   "source": [
    "The bin edges can be specified using the `bins` parameter,\n",
    "which can either be an integer number or an array (similarly to Numpy's `bins` argument):"
   ]
  },
  {
   "cell_type": "code",
   "execution_count": null,
   "metadata": {},
   "outputs": [],
   "source": [
    "osyris.histogram1d(data[\"hydro\"][\"density\"], logx=True,\n",
    "                   bins=np.logspace(-18., -13., 10),\n",
    "                   color='m')"
   ]
  },
  {
   "cell_type": "markdown",
   "metadata": {},
   "source": [
    "Multiple histograms can be over-plotted on the same axes by passing multiple layers:"
   ]
  },
  {
   "cell_type": "code",
   "execution_count": null,
   "metadata": {},
   "outputs": [],
   "source": [
    "bins = np.linspace(-0.15, 0.15, 40)\n",
    "osyris.histogram1d({\"data\": data[\"hydro\"][\"B_field\"].x, \"alpha\": 0.5},\n",
    "                   {\"data\": data[\"hydro\"][\"B_field\"].y, \"alpha\": 0.5},\n",
    "                   {\"data\": data[\"hydro\"][\"B_field\"].z, \"alpha\": 0.5},\n",
    "                   logy=True, bins=bins)"
   ]
  },
  {
   "cell_type": "markdown",
   "metadata": {},
   "source": [
    "## Line integral convolution vector field visualizations\n",
    "\n",
    "Osyris now supports line integral convolution (LIC) visualizations of vector fields.\n",
    "This visualization method, although computationally intensive,\n",
    "offers an excellent representation of the vector field (especially near discontinuities).\n",
    "\n",
    "**Note:** This feature requires the [lic](https://pypi.org/project/lic/) package to be installed.\n",
    "\n",
    "Below is an example of a LIC of the velocity vector field:"
   ]
  },
  {
   "cell_type": "code",
   "execution_count": null,
   "metadata": {},
   "outputs": [],
   "source": [
    "osyris.map({\"data\": data[\"hydro\"][\"velocity\"], \"mode\": \"lic\"},\n",
    "           dx=2000 * osyris.units(\"au\"), direction=\"z\",\n",
    "           origin=center, cmap=\"binary\")"
   ]
  },
  {
   "cell_type": "markdown",
   "metadata": {},
   "source": [
    "The LIC can be colored by a scalar field using the `color` keyword,\n",
    "and the length of the lines of the LIC can also be modified using the `length` keyword.\n",
    "\n",
    "In the following example,\n",
    "we use the colors to show the gas density overlayed onto the velocity flow structure on the left,\n",
    "while on the right we use the colors to recover some information on the magnitude of the velocities."
   ]
  },
  {
   "cell_type": "code",
   "execution_count": null,
   "metadata": {},
   "outputs": [],
   "source": [
    "fig, ax = plt.subplots(1, 2, figsize=(12, 4))\n",
    "\n",
    "dx = 2000 * osyris.units(\"au\")\n",
    "\n",
    "osyris.map({\"data\": data[\"hydro\"][\"velocity\"], \"mode\": \"lic\",\n",
    "            \"color\": data[\"hydro\"][\"density\"], \"norm\": \"log\",\n",
    "            \"length\":60}, ax=ax[0],\n",
    "           dx=dx, origin=center, direction=\"z\")\n",
    "osyris.map({\"data\": data[\"hydro\"][\"velocity\"], \"mode\": \"lic\",\n",
    "            \"color\": data[\"hydro\"][\"velocity\"], \"norm\": \"linear\",\n",
    "            \"length\":60, \"cmap\": \"plasma\"}, ax=ax[1],\n",
    "           dx=dx, origin=center, direction=\"z\")"
   ]
  },
  {
   "cell_type": "markdown",
   "metadata": {},
   "source": [
    "## Column density and thick slices\n",
    "\n",
    "A thickness argument `dz` can also be supplied to the `map` function.\n",
    "In this case, a 3D regular cube of data values is computed instead of a 2D plane,\n",
    "and this cube is flattened along the depth dimension before being forwarded to the rendering."
   ]
  },
  {
   "cell_type": "markdown",
   "metadata": {},
   "source": [
    "<div class=\"alert alert-warning\">\n",
    "\n",
    "**Warning**\n",
    "\n",
    "The current implementation generates a 3D grid of points,\n",
    "and for each one of these points, finds the single AMR cell that contains it.\n",
    "It then assigns the value in the AMR cell to the grid point position.\n",
    "The algorithm does **not** perform a histogramming of all the cells into a 3D cube of bins.\n",
    "\n",
    "This means that this method is not well suited to the computation of, e.g., surface density maps of a galaxy,\n",
    "where the unit would be in ${\\rm M}_{\\odot} {\\rm pc}^{-2}$,\n",
    "because it does not sum the mass contained in each bin,\n",
    "and results depend on the resolution used.\n",
    "If you wish to make such a plot anyway, you should ensure you are resolution-converged.\n",
    "\n",
    "</div>"
   ]
  },
  {
   "cell_type": "code",
   "execution_count": null,
   "metadata": {},
   "outputs": [],
   "source": [
    "fig, ax = plt.subplots(1, 2, figsize=(10, 3.5))\n",
    "plt.subplots_adjust(wspace=0.35)\n",
    "\n",
    "dx = 2000.0 * osyris.units(\"au\")\n",
    "dz = 1500.0 * osyris.units(\"au\")\n",
    "\n",
    "osyris.map({\"data\": data[\"hydro\"][\"density\"], \"norm\": \"log\"},\n",
    "           dx=dx, dz=dz, origin=center, direction=\"z\", ax=ax[0])\n",
    "osyris.map({\"data\": data[\"hydro\"][\"density\"], \"norm\": \"log\"},\n",
    "           dx=dx, dz=dz, origin=center, direction=\"x\", ax=ax[1])"
   ]
  },
  {
   "cell_type": "markdown",
   "metadata": {},
   "source": [
    "To control the grid resolution, use the `resolution` keyword argument."
   ]
  },
  {
   "cell_type": "code",
   "execution_count": null,
   "metadata": {},
   "outputs": [],
   "source": [
    "osyris.map({\"data\": data[\"hydro\"][\"density\"], \"norm\": \"log\"},\n",
    "           dx=dx, dz=dz, origin=center, direction=\"z\",\n",
    "           resolution={'z': 512})"
   ]
  }
 ],
 "metadata": {
  "kernelspec": {
   "display_name": "Python 3 (ipykernel)",
   "language": "python",
   "name": "python3"
  },
  "language_info": {
   "codemirror_mode": {
    "name": "ipython",
    "version": 3
   },
   "file_extension": ".py",
   "mimetype": "text/x-python",
   "name": "python",
   "nbconvert_exporter": "python",
   "pygments_lexer": "ipython3",
   "version": "3.9.5"
  }
 },
 "nbformat": 4,
 "nbformat_minor": 4
}
