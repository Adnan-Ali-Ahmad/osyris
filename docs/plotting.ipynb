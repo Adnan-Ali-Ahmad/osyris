{
 "cells": [
  {
   "cell_type": "markdown",
   "metadata": {},
   "source": [
    "# Plotting\n",
    "\n",
    "A good way to illustrate the plotting possibilities is through a long list of demos."
   ]
  },
  {
   "cell_type": "code",
   "execution_count": null,
   "metadata": {},
   "outputs": [],
   "source": [
    "import osyris\n",
    "import numpy as np\n",
    "import matplotlib.pyplot as plt\n",
    "\n",
    "data = osyris.Dataset(71, scale=\"au\", path=\"osyrisdata\").load()\n",
    "ind = np.argmax(data[\"hydro\"][\"density\"])\n",
    "center = data[\"amr\"][\"xyz\"][ind.values]"
   ]
  },
  {
   "cell_type": "markdown",
   "metadata": {},
   "source": [
    "### 1. A 2D histogram of density vs magnetic field\n",
    "\n",
    "By default, the `histogram` function will show a binned count of cells"
   ]
  },
  {
   "cell_type": "code",
   "execution_count": null,
   "metadata": {},
   "outputs": [],
   "source": [
    "osyris.histogram(data[\"hydro\"][\"density\"], data[\"hydro\"][\"B_field\"],\n",
    "                 norm=\"log\", loglog=True)"
   ]
  },
  {
   "cell_type": "markdown",
   "metadata": {},
   "source": [
    "Additional components can be overlayed using `layers`:"
   ]
  },
  {
   "cell_type": "code",
   "execution_count": null,
   "metadata": {},
   "outputs": [],
   "source": [
    "osyris.histogram(data[\"hydro\"][\"density\"], data[\"hydro\"][\"B_field\"],\n",
    "                 {\"data\": data[\"hydro\"][\"mass\"], \"norm\": \"log\"}, # layer 1\n",
    "                 {\"data\": data[\"amr\"][\"level\"], \"operation\": \"mean\", \"mode\": \"contour\", \"colors\": \"k\"}, # layer 2\n",
    "                 loglog=True)"
   ]
  },
  {
   "cell_type": "markdown",
   "metadata": {},
   "source": [
    "### 2. Simple cut plane\n",
    "\n",
    "Create a 2D gas density slice 100 au wide through the plane normal to `z`,\n",
    "with velocity vectors overlayed as arrows, once agains using `layers`:"
   ]
  },
  {
   "cell_type": "code",
   "execution_count": null,
   "metadata": {
    "scrolled": false
   },
   "outputs": [],
   "source": [
    "osyris.plane({\"data\": data[\"hydro\"][\"density\"], \"norm\": \"log\"}, # layer 1\n",
    "             {\"data\": data[\"hydro\"][\"velocity\"], \"mode\": \"vec\"}, # layer 2\n",
    "             dx=100 * osyris.units(\"au\"),\n",
    "             origin=center,\n",
    "             direction=\"z\")"
   ]
  },
  {
   "cell_type": "markdown",
   "metadata": {},
   "source": [
    "### 3. Cut plane at an arbitrary angle\n",
    "\n",
    "The `plane` function will also accept a vector to define the normal direction to the plane"
   ]
  },
  {
   "cell_type": "code",
   "execution_count": null,
   "metadata": {
    "scrolled": false
   },
   "outputs": [],
   "source": [
    "osyris.plane({\"data\": data[\"hydro\"][\"density\"], \"norm\": \"log\"},\n",
    "             {\"data\": data[\"hydro\"][\"velocity\"], \"mode\": \"vec\"},\n",
    "             dx=100 * osyris.units(\"au\"),\n",
    "             origin=center,\n",
    "             direction=[-1, 1, 1])"
   ]
  },
  {
   "cell_type": "markdown",
   "metadata": {},
   "source": [
    "### 4. Automatic “top/side” slice orientation according to angular momentum\n",
    "\n",
    "Create a 2D slice of the logarithm of density 50 au wide using automatic orientation based on the angular momentum in the data.\n",
    "This is useful for looking at disks.\n",
    "Use the `\"top\"` direction for the slice to view the disk from above"
   ]
  },
  {
   "cell_type": "code",
   "execution_count": null,
   "metadata": {},
   "outputs": [],
   "source": [
    "osyris.plane({\"data\": data[\"hydro\"][\"density\"], \"norm\": \"log\"},\n",
    "             {\"data\": data[\"hydro\"][\"velocity\"], \"mode\": \"vec\"},\n",
    "             dx=50 * osyris.units(\"au\"),\n",
    "             origin=center,\n",
    "             direction=\"top\")"
   ]
  },
  {
   "cell_type": "markdown",
   "metadata": {},
   "source": [
    "Use the `direction=\"side\"` for the slice to view the disk from the side"
   ]
  },
  {
   "cell_type": "code",
   "execution_count": null,
   "metadata": {},
   "outputs": [],
   "source": [
    "osyris.plane({\"data\": data[\"hydro\"][\"density\"], \"norm\": \"log\"},\n",
    "             {\"data\": data[\"hydro\"][\"velocity\"], \"mode\": \"vec\"},\n",
    "             dx=50 * osyris.units(\"au\"),\n",
    "             origin=center,\n",
    "             direction=\"side\")"
   ]
  },
  {
   "cell_type": "markdown",
   "metadata": {},
   "source": [
    "### 5. Embedding plots in existing matplotlib axes\n",
    "\n",
    "In this example, we create two subplot axes with `matplotlib`.\n",
    "\n",
    "Next, we plot in the left panel the log of density as a coloured slice with velocity vectors.\n",
    "The minimum and maximum of $\\log(\\rho)$ is forced to `-14` and `-9`.\n",
    "We give the `plane` call the axes to use via the `ax` argument.\n",
    "Next, we overlay some custom chosen density contours with different line styles and colours.\n",
    "\n",
    "In the right panel, we plot a plane of temperature and overlay some lightgray contours showing the AMR levels.\n",
    "We specify only integer contour levels."
   ]
  },
  {
   "cell_type": "code",
   "execution_count": null,
   "metadata": {
    "scrolled": false
   },
   "outputs": [],
   "source": [
    "# Create figure\n",
    "fig = plt.figure(figsize=(8, 3))\n",
    "ax1 = fig.add_subplot(121)\n",
    "ax2 = fig.add_subplot(122)\n",
    "plt.subplots_adjust(wspace=0.5)\n",
    "\n",
    "# Define region to plot\n",
    "dx = 15.0 * osyris.units(\"au\")\n",
    "\n",
    "# Left plot: coloured density slice with overlayed contours\n",
    "osyris.plane({\"data\": data[\"hydro\"][\"density\"], \"norm\": \"log\",\n",
    "                               \"vmin\": 1.0e-14,\n",
    "                               \"vmax\": 1.0e-9},\n",
    "             {\"data\": data[\"hydro\"][\"velocity\"], \"mode\": \"vec\"},\n",
    "             {\"data\": data[\"hydro\"][\"density\"], \"mode\": \"contour\",\n",
    "                  \"levels\": [1.0e-12,1.0e-11,1.0e-9],\n",
    "                  \"colors\": ('yellow','k',\"lime\"),\n",
    "                  \"linewidths\": [2,5,2],\n",
    "                  \"linestyles\": [\"solid\",\"dashed\",\"solid\"],\n",
    "                  \"cmap\": None,\n",
    "                  \"labels\": False},\n",
    "             dx=dx,\n",
    "             origin=center,\n",
    "             direction=\"z\", ax=ax1)\n",
    "\n",
    "osyris.plane({\"data\": data[\"hydro\"][\"temperature\"], \"norm\": \"log\", \"mode\": \"contourf\",\n",
    "              \"levels\": np.logspace(1.4, 3, 21), \"cmap\": \"hot\"},\n",
    "             {\"data\": data[\"amr\"][\"level\"], \"mode\": \"contour\", \"colors\": \"w\", \"levels\": [14, 15, 16]},\n",
    "             dx=dx,\n",
    "             origin=center,\n",
    "             direction=\"z\", ax=ax2)"
   ]
  },
  {
   "cell_type": "markdown",
   "metadata": {},
   "source": [
    "### 6. Plot only a subset of cells belonging to a disk\n",
    "\n",
    "In this example, we select cells according to their density and plot only those.\n",
    "This is done by creating a new field and using the `numpy` `where` function.\n",
    "To combine more than one selection criteria, use the `logical_and` `numpy` function.\n",
    "\n",
    "This is useful for plotting disks around protostars, for example.\n",
    "Here we select the cells with a density in the range $-12.5 < \\log(\\rho) < -11.0$."
   ]
  },
  {
   "cell_type": "code",
   "execution_count": null,
   "metadata": {},
   "outputs": [],
   "source": [
    "data[\"hydro\"][\"disk_density\"] = osyris.Array(\n",
    "    np.ma.masked_where(np.logical_or(\n",
    "        data[\"hydro\"][\"density\"].values < 3.0e-13,\n",
    "        data[\"hydro\"][\"density\"].values > 1.0e-11),\n",
    "                       data[\"hydro\"][\"density\"].values),\n",
    "                       unit=data[\"hydro\"][\"density\"].unit)\n",
    "osyris.plane(data[\"hydro\"][\"disk_density\"], dx=50 * osyris.units(\"au\"),\n",
    "             norm=\"log\", origin=center, mode=\"image\")"
   ]
  },
  {
   "cell_type": "markdown",
   "metadata": {},
   "source": [
    "Computing the disk mass can be achieved via"
   ]
  },
  {
   "cell_type": "code",
   "execution_count": null,
   "metadata": {},
   "outputs": [],
   "source": [
    "np.sum(data[\"hydro\"][\"disk_density\"]*(data[\"amr\"][\"dx\"]**3)).to(\"msun\")"
   ]
  },
  {
   "cell_type": "markdown",
   "metadata": {},
   "source": [
    "### 7. Difference between two snapshots\n",
    "\n",
    "Here, we want to make a map of the difference in density between two snapshots.\n",
    "Because we do not necessarily have the same number of cells at the same place,\n",
    "we first have to make uniform 2D maps using the `plane` function,\n",
    "which we can then directly compare.\n",
    "\n",
    "The `plane` function actually returns an object that contains the raw data that was used to create the figure.\n",
    "By using the `plot=False` argument, we can silence the figure generation, and use the data in a custom figure.\n",
    "\n",
    "**Note:** For this to make sense, the two outputs have to be centered around the same center point."
   ]
  },
  {
   "cell_type": "code",
   "execution_count": null,
   "metadata": {},
   "outputs": [],
   "source": [
    "# Read data from a later snapshot\n",
    "data2 = osyris.Dataset(201, scale=\"au\", path=\"osyrisdata\").load()"
   ]
  },
  {
   "cell_type": "code",
   "execution_count": null,
   "metadata": {},
   "outputs": [],
   "source": [
    "dx = 100 * osyris.units(\"au\")\n",
    "# Extract density slices by copying data into structures\n",
    "plane1 = osyris.plane({\"data\": data[\"hydro\"][\"density\"], \"norm\": \"log\"},\n",
    "                      dx=dx, origin=center, direction=\"z\", plot=False)\n",
    "\n",
    "plane2 = osyris.plane({\"data\": data2[\"hydro\"][\"density\"], \"norm\": \"log\"},\n",
    "                      dx=dx, origin=center, direction=\"z\", plot=False)\n",
    "\n",
    "# Get x,y coordinates\n",
    "x = plane1.x\n",
    "y = plane1.y\n",
    "\n",
    "# Density difference\n",
    "rho1 = np.log10(plane1.layers[0][\"data\"])\n",
    "rho2 = np.log10(plane2.layers[0][\"data\"])\n",
    "diff = (rho1 - rho2) / rho2\n",
    "\n",
    "# Create figure\n",
    "fig, ax = plt.subplots()\n",
    "cf = ax.contourf(x, y , diff, cmap='RdBu',\n",
    "                 levels=np.linspace(-0.12,0.12,31))\n",
    "ax.set_aspect(\"equal\")\n",
    "cb = plt.colorbar(cf, ax=ax)\n",
    "cb.ax.set_ylabel(\"Relative difference\")"
   ]
  },
  {
   "cell_type": "markdown",
   "metadata": {},
   "source": [
    "### 8. Slice above the origin\n",
    "\n",
    "We want to plot a slice of density but through a point which is 5 AU above the centre of the domain,\n",
    "defined as the cell with the highest density.\n",
    "This is done by setting the `origin` coordinate to `[0, 0, 5]`"
   ]
  },
  {
   "cell_type": "code",
   "execution_count": null,
   "metadata": {},
   "outputs": [],
   "source": [
    "origin = center.copy()\n",
    "origin.values[-1] += 5\n",
    "osyris.plane({\"data\": data[\"hydro\"][\"density\"], \"norm\": \"log\"},\n",
    "             {\"data\": data[\"hydro\"][\"velocity\"], \"mode\": \"vec\"},\n",
    "             dx=dx,\n",
    "             origin=origin,\n",
    "             direction=\"z\")"
   ]
  }
 ],
 "metadata": {
  "kernelspec": {
   "display_name": "Python 3",
   "language": "python",
   "name": "python3"
  },
  "language_info": {
   "codemirror_mode": {
    "name": "ipython",
    "version": 3
   },
   "file_extension": ".py",
   "mimetype": "text/x-python",
   "name": "python",
   "nbconvert_exporter": "python",
   "pygments_lexer": "ipython3",
   "version": "3.9.1"
  }
 },
 "nbformat": 4,
 "nbformat_minor": 2
}
