{
 "cells": [
  {
   "cell_type": "markdown",
   "metadata": {},
   "source": [
    "# Loading data"
   ]
  },
  {
   "cell_type": "code",
   "execution_count": null,
   "metadata": {},
   "outputs": [],
   "source": [
    "import numpy as np\n",
    "import osyris"
   ]
  },
  {
   "cell_type": "markdown",
   "metadata": {},
   "source": [
    "## Loading a Ramses output\n",
    "\n",
    "We load a data output from a star formation simulation"
   ]
  },
  {
   "cell_type": "code",
   "execution_count": null,
   "metadata": {},
   "outputs": [],
   "source": [
    "path = \"osyrisdata/starformation\"\n",
    "data = osyris.Dataset(8, scale=\"au\", path=path).load()"
   ]
  },
  {
   "cell_type": "markdown",
   "metadata": {},
   "source": [
    "and show a 2D histogram of the gas density versus the magnetic field strength"
   ]
  },
  {
   "cell_type": "code",
   "execution_count": null,
   "metadata": {},
   "outputs": [],
   "source": [
    "osyris.plot.histogram(data[\"hydro\"][\"density\"], data[\"hydro\"][\"B_field\"],\n",
    "                      norm=\"log\", loglog=True)"
   ]
  },
  {
   "cell_type": "markdown",
   "metadata": {},
   "source": [
    "## Selective loading\n",
    "\n",
    "### Filtering on cell values\n",
    "\n",
    "It is possible to load only a subset of the cells, by using custom functions to perform the selection.\n",
    "\n",
    "As an example, to load all the cells with $\\rho > 10^{-15}~{\\rm g~cm}^{-3}$, we use a selection criterion"
   ]
  },
  {
   "cell_type": "code",
   "execution_count": null,
   "metadata": {},
   "outputs": [],
   "source": [
    "data = osyris.Dataset(8, scale=\"au\", path=path).load(\n",
    "    select={\"hydro\": {\"density\": lambda d : d > 1.0e-15 * osyris.units('g/cm**3')}})"
   ]
  },
  {
   "cell_type": "markdown",
   "metadata": {},
   "source": [
    "and we can now see in the resulting histogram that all the low-density cells have been left out:"
   ]
  },
  {
   "cell_type": "code",
   "execution_count": null,
   "metadata": {},
   "outputs": [],
   "source": [
    "osyris.plot.histogram(data[\"hydro\"][\"density\"], data[\"hydro\"][\"B_field\"],\n",
    "                      norm=\"log\", loglog=True)"
   ]
  },
  {
   "cell_type": "markdown",
   "metadata": {},
   "source": [
    "Multiple selection criteria are ANDed:"
   ]
  },
  {
   "cell_type": "code",
   "execution_count": null,
   "metadata": {},
   "outputs": [],
   "source": [
    "data = osyris.Dataset(8, scale=\"au\", path=path).load(\n",
    "    select={\"hydro\": {\"density\": lambda d : d > 1.0e-16 * osyris.units('g/cm**3')},\n",
    "            \"amr\": {\"xyz_x\": lambda x : x > 1500. * osyris.units('au')}})"
   ]
  },
  {
   "cell_type": "code",
   "execution_count": null,
   "metadata": {},
   "outputs": [],
   "source": [
    "osyris.plane({\"data\": data[\"hydro\"][\"density\"], \"norm\": \"log\"},\n",
    "             dx=1000 * osyris.units('au'),\n",
    "             origin=data[\"amr\"][\"xyz\"][np.argmax(data[\"hydro\"][\"density\"]).values],\n",
    "             direction='z')"
   ]
  },
  {
   "cell_type": "markdown",
   "metadata": {},
   "source": [
    "### Only loading certain variables\n",
    "\n",
    "It is also possible to skip a variable entirely by setting the key to `False` in the `select` dict:"
   ]
  },
  {
   "cell_type": "code",
   "execution_count": null,
   "metadata": {},
   "outputs": [],
   "source": [
    "data = osyris.Dataset(8, scale=\"au\", path=path).load(\n",
    "    select={\"hydro\": {\"density\": False}})\n",
    "\"density\" in data[\"hydro\"]"
   ]
  },
  {
   "cell_type": "markdown",
   "metadata": {},
   "source": [
    "Entire groups of variables can also be skipped.\n",
    "The different groups are `'amr'`, `'hydro'`, `'grav'` (or `'gravity'`), and `'rt'`,\n",
    "but note that the `'amr'` group is always loaded.\n",
    "Loading all but the hydro variables can be achieved via"
   ]
  },
  {
   "cell_type": "code",
   "execution_count": null,
   "metadata": {},
   "outputs": [],
   "source": [
    "data = osyris.Dataset(8, scale=\"au\", path=path).load(\n",
    "    select={\"hydro\": False})\n",
    "data"
   ]
  },
  {
   "cell_type": "markdown",
   "metadata": {},
   "source": [
    "### Selecting AMR levels\n",
    "\n",
    "Selecting AMR levels uses the same syntax as selecting other variables,\n",
    "but works slightly differently under the hood.\n",
    "A maximum level will be found by testing the selection function provided,\n",
    "and only the required levels will be traversed by the loader,\n",
    "thus speeding up the loading process.\n",
    "\n",
    "Hence,"
   ]
  },
  {
   "cell_type": "code",
   "execution_count": null,
   "metadata": {},
   "outputs": [],
   "source": [
    "data = osyris.Dataset(8, scale=\"au\", path=path).load(\n",
    "    select={\"amr\": {\"level\": lambda l : l < 7}})\n",
    "data[\"amr\"][\"level\"]"
   ]
  },
  {
   "cell_type": "markdown",
   "metadata": {},
   "source": [
    "will only read levels 1 to 6, while"
   ]
  },
  {
   "cell_type": "code",
   "execution_count": null,
   "metadata": {},
   "outputs": [],
   "source": [
    "data = osyris.Dataset(8, scale=\"au\", path=path).load(\n",
    "    select={\"amr\": {\"level\": lambda l : np.logical_and(l > 5, l < 9)}})\n",
    "data[\"amr\"][\"level\"]"
   ]
  },
  {
   "cell_type": "markdown",
   "metadata": {},
   "source": [
    "will read levels 1 to 8, but will then discard all cells with `level` < 6.\n",
    "\n",
    "### Loading only selected CPU outputs\n",
    "\n",
    "It is also possible to feed a list of CPU numbers to read from."
   ]
  },
  {
   "cell_type": "code",
   "execution_count": null,
   "metadata": {},
   "outputs": [],
   "source": [
    "data = osyris.Dataset(8, scale=\"au\", path=path).load(\n",
    "    cpu_list=[1, 2, 10, 4, 5])"
   ]
  },
  {
   "cell_type": "code",
   "execution_count": null,
   "metadata": {},
   "outputs": [],
   "source": [
    "osyris.plane({\"data\": data[\"hydro\"][\"density\"], \"norm\": \"log\"},\n",
    "             dx=2000 * osyris.units(\"au\"),\n",
    "             origin=data[\"amr\"][\"xyz\"][np.argmax(data[\"hydro\"][\"density\"]).values],\n",
    "             direction='z')"
   ]
  },
  {
   "cell_type": "markdown",
   "metadata": {},
   "source": [
    "<div class=\"alert alert-info\">\n",
    "\n",
    "**Note**\n",
    "\n",
    "When performing a selection (using `select`) on spatial position `x`, `y`, or `z`,\n",
    "and if the ordering of the cells in the AMR mesh is using the Hilbert curve,\n",
    "then a pre-selection is automatically made on the CPU files to load to speed-up the loading.\n",
    "\n",
    "</div>"
   ]
  }
 ],
 "metadata": {
  "kernelspec": {
   "display_name": "Python 3",
   "language": "python",
   "name": "python3"
  },
  "language_info": {
   "codemirror_mode": {
    "name": "ipython",
    "version": 3
   },
   "file_extension": ".py",
   "mimetype": "text/x-python",
   "name": "python",
   "nbconvert_exporter": "python",
   "pygments_lexer": "ipython3",
   "version": "3.9.1"
  }
 },
 "nbformat": 4,
 "nbformat_minor": 2
}
