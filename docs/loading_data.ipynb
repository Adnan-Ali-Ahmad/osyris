{
 "cells": [
  {
   "cell_type": "markdown",
   "metadata": {},
   "source": [
    "# Loading data"
   ]
  },
  {
   "cell_type": "code",
   "execution_count": null,
   "metadata": {},
   "outputs": [],
   "source": [
    "import osyris\n",
    "import numpy as np"
   ]
  },
  {
   "cell_type": "markdown",
   "metadata": {},
   "source": [
    "## Loading a Ramses output\n",
    "\n",
    "We load a data output from a star formation simulation"
   ]
  },
  {
   "cell_type": "code",
   "execution_count": null,
   "metadata": {},
   "outputs": [],
   "source": [
    "data = osyris.load(71, scale=\"au\", path=\"osyrisdata\")"
   ]
  },
  {
   "cell_type": "markdown",
   "metadata": {},
   "source": [
    "and show a 2D histogram of the gas density versus the magnetic field strength"
   ]
  },
  {
   "cell_type": "code",
   "execution_count": null,
   "metadata": {},
   "outputs": [],
   "source": [
    "osyris.plot.histogram(data[\"density\"], data[\"B_field\"],\n",
    "                      norm=\"log\", loglog=True)"
   ]
  },
  {
   "cell_type": "markdown",
   "metadata": {},
   "source": [
    "## Selective loading\n",
    "\n",
    "It is possible to load only a subset of the cells, by using custom functions to perform the selection.\n",
    "\n",
    "As an example, to load all the cells with $\\rho > 10^{-13}~{\\rm g~cm}^{-3}$, we use a selection criterion"
   ]
  },
  {
   "cell_type": "code",
   "execution_count": null,
   "metadata": {},
   "outputs": [],
   "source": [
    "data2 = osyris.load(71, scale=\"au\", path=\"osyrisdata\",\n",
    "                    select={\"density\": lambda d : d > 1.0e-13 * osyris.units('g/cm**3')})"
   ]
  },
  {
   "cell_type": "markdown",
   "metadata": {},
   "source": [
    "and we can now see in the resulting histogram that all the low-density cells have been left out:"
   ]
  },
  {
   "cell_type": "code",
   "execution_count": null,
   "metadata": {},
   "outputs": [],
   "source": [
    "osyris.plot.histogram(data2[\"density\"], data2[\"B_field\"],\n",
    "                      norm=\"log\", loglog=True)"
   ]
  },
  {
   "cell_type": "markdown",
   "metadata": {},
   "source": [
    "Multiple selection criteria are ANDed:"
   ]
  },
  {
   "cell_type": "code",
   "execution_count": null,
   "metadata": {},
   "outputs": [],
   "source": [
    "data3 = osyris.load(71, scale=\"au\", path=\"osyrisdata\",\n",
    "                    select={\"density\": lambda d : d > 1.0e-13 * osyris.units('g/cm**3'),\n",
    "                            \"xyz_x\": lambda x : x > 5500. * osyris.units('au')})"
   ]
  },
  {
   "cell_type": "code",
   "execution_count": null,
   "metadata": {},
   "outputs": [],
   "source": [
    "ind = np.argmax(data3[\"density\"])\n",
    "center = data3[\"xyz\"][ind.values]\n",
    "osyris.plane({\"data\": data3[\"density\"], \"norm\": \"log\"},\n",
    "             dx=200,\n",
    "             origin=center,\n",
    "             direction='z')"
   ]
  },
  {
   "cell_type": "markdown",
   "metadata": {},
   "source": [
    "## Loading only selected CPU outputs\n",
    "\n",
    "It is also possible to feed a list of CPU numbers to read from."
   ]
  },
  {
   "cell_type": "code",
   "execution_count": null,
   "metadata": {},
   "outputs": [],
   "source": [
    "data4 = osyris.load(71, scale=\"au\", path=\"osyrisdata\",\n",
    "                    cpu_list=[1, 2, 10, 4, 5])"
   ]
  },
  {
   "cell_type": "code",
   "execution_count": null,
   "metadata": {},
   "outputs": [],
   "source": [
    "ind = np.argmax(data4[\"density\"])\n",
    "center = data4[\"xyz\"][ind.values]\n",
    "osyris.plane({\"data\": data4[\"density\"], \"norm\": \"log\"},\n",
    "             dx=400,\n",
    "             origin=center,\n",
    "             direction='z')"
   ]
  },
  {
   "cell_type": "markdown",
   "metadata": {},
   "source": [
    "<div class=\"alert alert-info\">\n",
    "\n",
    "**Note**\n",
    "\n",
    "When performing a selection (using `select`) on spatial position `x`, `y`, or `z`,\n",
    "and if the ordering of the cells in the AMR mesh is using the Hilbert curve,\n",
    "then a pre-selection is automatically made on the CPU files to load to speed-up the loading.\n",
    "\n",
    "</div>"
   ]
  }
 ],
 "metadata": {
  "kernelspec": {
   "display_name": "Python 3",
   "language": "python",
   "name": "python3"
  },
  "language_info": {
   "codemirror_mode": {
    "name": "ipython",
    "version": 3
   },
   "file_extension": ".py",
   "mimetype": "text/x-python",
   "name": "python",
   "nbconvert_exporter": "python",
   "pygments_lexer": "ipython3",
   "version": "3.7.10"
  }
 },
 "nbformat": 4,
 "nbformat_minor": 2
}
