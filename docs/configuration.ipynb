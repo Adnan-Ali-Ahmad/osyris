{
 "cells": [
  {
   "cell_type": "markdown",
   "metadata": {},
   "source": [
    "# Configuration\n",
    "\n",
    "Upon first import, `osyris` will create a configuration file located in `/home/user/.osyris/config_osyris.py`.\n",
    "This will then be loaded by `osyris`, and allows easy configuration for the default colormap, spatial scale, etc.\n",
    "\n",
    "## Parameters\n",
    "\n",
    "The `parameters` dictionary inside the configuration file contains the following default values:\n",
    "\n",
    "- `\"scale\"`: the spatial scale to use for distances and cell sizes\n",
    "- `\"path\"`: the directory where data outputs are stored (this can be an absolute or relative path)\n",
    "- `\"select\"`: a cell selection criterion for selective loading\n",
    "- `\"cmap\"`: the default Matplotlib colormap to use\n",
    "- `\"render_mode\"`: the default rendering mode for figures (e.g. `\"image\"`, `\"contour\"`, `\"contourf\"`...)\n",
    "- `\"sortby\"`: a dict of keys (e.g. `\"identity\"`) to be used for sorting data groups (`\"part\"`, `\"hydro\"`...) upon load. Set to `None` to disable sorting.\n",
    "\n",
    "## Additional units\n",
    "\n",
    "This function creates additional units that you use often, and do not wish to re-defined all the time.\n",
    "The syntax is the following:"
   ]
  },
  {
   "cell_type": "code",
   "execution_count": null,
   "metadata": {},
   "outputs": [],
   "source": [
    "def additional_units(ureg):\n",
    "    ureg.define('solar_mass = 1.9889e+33 * g = M_sun = M_sol')\n",
    "    ureg.define('radiation_constant = 7.5659146e-015 * erg / cm^3 / K^4 = ar')"
   ]
  },
  {
   "cell_type": "markdown",
   "metadata": {},
   "source": [
    "## Additional variables\n",
    "\n",
    "It is often useful to define some additional variables that are to be computed every time data is loaded.\n",
    "These commonly include cell-centered magnetic field, or temperature.\n",
    "\n",
    "It is recommended to place your variables in a `try/except` block,\n",
    "which will prevent errors if the variables are not found,\n",
    "for instance when loading data from a different simulation.\n",
    "\n",
    "For instance"
   ]
  },
  {
   "cell_type": "code",
   "execution_count": null,
   "metadata": {},
   "outputs": [],
   "source": [
    "def additional_variables(data):\n",
    "    # Magnetic field\n",
    "    try:\n",
    "        data[\"hydro\"][\"B_field\"] = 0.5 * (data[\"hydro\"][\"B_left\"] + data[\"hydro\"][\"B_right\"])\n",
    "    except KeyError:\n",
    "        pass\n",
    "\n",
    "    # Mass\n",
    "    try:\n",
    "        data[\"hydro\"][\"mass\"] = (data[\"hydro\"][\"density\"] * data[\"amr\"][\"dx\"]**3).to(\"M_sun\")\n",
    "    except KeyError:\n",
    "        pass"
   ]
  }
 ],
 "metadata": {
  "kernelspec": {
   "display_name": "Python 3 (ipykernel)",
   "language": "python",
   "name": "python3"
  },
  "language_info": {
   "codemirror_mode": {
    "name": "ipython",
    "version": 3
   },
   "file_extension": ".py",
   "mimetype": "text/x-python",
   "name": "python",
   "nbconvert_exporter": "python",
   "pygments_lexer": "ipython3",
   "version": "3.9.5"
  },
  "nbsphinx": {
   "execute": "never"
  }
 },
 "nbformat": 4,
 "nbformat_minor": 4
}
