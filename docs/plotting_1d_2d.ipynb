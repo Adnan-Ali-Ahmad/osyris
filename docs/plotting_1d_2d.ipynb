{
 "cells": [
  {
   "cell_type": "markdown",
   "metadata": {},
   "source": [
    "# Plotting: 1D and 2D data\n",
    "\n",
    "This notebook show how to visualize 1D and 2d simulation data."
   ]
  },
  {
   "cell_type": "code",
   "execution_count": null,
   "metadata": {},
   "outputs": [],
   "source": [
    "import osyris\n",
    "import numpy as np\n",
    "import matplotlib.pyplot as plt"
   ]
  },
  {
   "cell_type": "markdown",
   "metadata": {},
   "source": [
    "## Plotting 1D data\n",
    "\n",
    "1D and 2D data are loaded in exactly the same way as 3D simulations,\n",
    "by creating a `Dataset` and calling the `load()` method."
   ]
  },
  {
   "cell_type": "code",
   "execution_count": null,
   "metadata": {},
   "outputs": [],
   "source": [
    "path = \"osyrisdata/sod\"\n",
    "data = osyris.Dataset(2, scale=\"cm\", path=path).load()\n",
    "data"
   ]
  },
  {
   "cell_type": "markdown",
   "metadata": {},
   "source": [
    "### Line profile\n",
    "\n",
    "To plot a simple line profile of density as a function of position,\n",
    "Osyris provides the `plot` function which is analogous to Matplotlib's\n",
    "[plot](https://matplotlib.org/stable/api/_as_gen/matplotlib.pyplot.plot.html) function."
   ]
  },
  {
   "cell_type": "code",
   "execution_count": null,
   "metadata": {},
   "outputs": [],
   "source": [
    "osyris.plot(data['amr']['xyz_x'], data['hydro']['density'])"
   ]
  },
  {
   "cell_type": "markdown",
   "metadata": {},
   "source": [
    "### Styling lines\n",
    "\n",
    "Because the function is based on Matplotlib's implementation,\n",
    "it also supports Matplotlib's styling arguments.\n",
    "For instance, to plot using red marker instead of a solid line,\n",
    "you can do"
   ]
  },
  {
   "cell_type": "code",
   "execution_count": null,
   "metadata": {},
   "outputs": [],
   "source": [
    "osyris.plot(data['amr']['xyz_x'], data['hydro']['density'],\n",
    "           marker='o', ls='None', color='red')"
   ]
  },
  {
   "cell_type": "markdown",
   "metadata": {},
   "source": [
    "### Logarithmic scales\n",
    "\n",
    "Osyris does provide some convenience arguments in addition to Matplotlib's functionalty.\n",
    "For example, to set a logarithmic scale on the x and y axes, use the `logx` and `logy` arguments"
   ]
  },
  {
   "cell_type": "code",
   "execution_count": null,
   "metadata": {},
   "outputs": [],
   "source": [
    "osyris.plot(data['amr']['xyz_x'], data['hydro']['density'],\n",
    "           marker='o', ls='None', logx=True, logy=True)"
   ]
  },
  {
   "cell_type": "markdown",
   "metadata": {},
   "source": [
    "### Multiple lines\n",
    "\n",
    "It is also possible to over-plot multiple lines in one go,\n",
    "by supplying more than one array for the `y` values.\n",
    "\n",
    "However, note that to be able to plot the variables on a single axis,\n",
    "they must all have the same unit."
   ]
  },
  {
   "cell_type": "code",
   "execution_count": null,
   "metadata": {},
   "outputs": [],
   "source": [
    "try:\n",
    "    osyris.plot(data['amr']['xyz_x'],\n",
    "                data['hydro']['density'],\n",
    "                data['hydro']['pressure'])\n",
    "except Exception as e:\n",
    "    print(e)"
   ]
  },
  {
   "cell_type": "markdown",
   "metadata": {},
   "source": [
    "To be able to show an example, we fake a new density variable."
   ]
  },
  {
   "cell_type": "code",
   "execution_count": null,
   "metadata": {},
   "outputs": [],
   "source": [
    "data['hydro']['new_density'] = data['hydro']['density'] * 2\n",
    "osyris.plot(data['amr']['xyz_x'],\n",
    "            data['hydro']['density'],\n",
    "            data['hydro']['new_density'])"
   ]
  },
  {
   "cell_type": "markdown",
   "metadata": {},
   "source": [
    "By default, the same x coordinate will be used for both sets of y values.\n",
    "It is however possible to plot on the same axes two variables with different x coordinates.\n",
    "\n",
    "In this case, the two entries must be dicts, and they must contain at least the entries `'x'` and `'y'`.\n",
    "This is useful in the case where one wishes to compare two outputs from different times,\n",
    "which do not contain the same number of mesh cells (and hence cannot have the same x coordinate)."
   ]
  },
  {
   "cell_type": "code",
   "execution_count": null,
   "metadata": {},
   "outputs": [],
   "source": [
    "old = osyris.Dataset(1, scale=\"cm\", path=path).load()\n",
    "\n",
    "osyris.plot({'x': data['amr']['xyz_x'], 'y': data['hydro']['density']},\n",
    "            {'x': old['amr']['xyz_x'], 'y': old['hydro']['density']},\n",
    "            marker='o', ls='None')"
   ]
  },
  {
   "cell_type": "markdown",
   "metadata": {},
   "source": [
    "## Subplots / tiled plots"
   ]
  },
  {
   "cell_type": "code",
   "execution_count": null,
   "metadata": {},
   "outputs": [],
   "source": [
    "fig, ax = plt.subplots(2, 2, figsize=(12, 9))\n",
    "\n",
    "osyris.plot(data['amr']['xyz_x'], data['hydro']['density'],\n",
    "            marker='o', ls='None', ax=ax[0, 0])\n",
    "osyris.plot(data['amr']['xyz_x'], data['hydro']['velocity_x'],\n",
    "            color='green', ax=ax[0, 1])\n",
    "osyris.plot(data['amr']['xyz_x'], data['hydro']['pressure'],\n",
    "            color='red', ax=ax[1, 0])\n",
    "osyris.plot(data['amr']['xyz_x'], data['amr']['level'],\n",
    "            color='black', ls='dotted', ax=ax[1, 1])"
   ]
  },
  {
   "cell_type": "markdown",
   "metadata": {},
   "source": [
    "## Plotting 2D data"
   ]
  },
  {
   "cell_type": "code",
   "execution_count": null,
   "metadata": {},
   "outputs": [],
   "source": [
    "path = \"osyrisdata/sod\"\n",
    "data2d = osyris.Dataset(2, scale=\"cm\").load()"
   ]
  },
  {
   "cell_type": "code",
   "execution_count": null,
   "metadata": {},
   "outputs": [],
   "source": [
    "osyris.map({\"data\": data2d['hydro'][\"density\"], \"norm\": \"log\"}, # layer 1\n",
    "             # dx=2,\n",
    "             # origin=osyris.Array([0.5, 0.5], unit='cm'),\n",
    "             cmap='jet',\n",
    "             # resolution=512,\n",
    "             # resolution={'x': 97, 'y': 97}\n",
    "            )"
   ]
  },
  {
   "cell_type": "code",
   "execution_count": null,
   "metadata": {},
   "outputs": [],
   "source": [
    "osyris.map({\"data\": data2d['amr'][\"level\"]}, # layer 1\n",
    "#              dx=2,\n",
    "#              origin=osyris.Array([0.5, 0.5], unit='cm'),\n",
    "             cmap='jet',\n",
    "             # resolution={'x': 97, 'y': 97}\n",
    "            )"
   ]
  },
  {
   "cell_type": "code",
   "execution_count": null,
   "metadata": {},
   "outputs": [],
   "source": []
  }
 ],
 "metadata": {
  "kernelspec": {
   "display_name": "Python 3 (ipykernel)",
   "language": "python",
   "name": "python3"
  },
  "language_info": {
   "codemirror_mode": {
    "name": "ipython",
    "version": 3
   },
   "file_extension": ".py",
   "mimetype": "text/x-python",
   "name": "python",
   "nbconvert_exporter": "python",
   "pygments_lexer": "ipython3",
   "version": "3.9.5"
  }
 },
 "nbformat": 4,
 "nbformat_minor": 4
}
