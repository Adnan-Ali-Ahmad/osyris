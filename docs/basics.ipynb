{
 "cells": [
  {
   "cell_type": "markdown",
   "metadata": {},
   "source": [
    "# Basics\n",
    "\n",
    "This notebook provides a quick introduction on how to get started with loading a simulation output and creating some basic figures.\n",
    "\n",
    "We first begin by downloading and unpacking the sample data"
   ]
  },
  {
   "cell_type": "code",
   "execution_count": null,
   "metadata": {
    "scrolled": false
   },
   "outputs": [],
   "source": [
    "!wget -O osyris_sample_data.tar.gz https://project.esss.dk/owncloud/index.php/s/LLwJuO5RcAqfTCW/download\n",
    "!tar -xzf osyris_sample_data.tar.gz"
   ]
  },
  {
   "cell_type": "markdown",
   "metadata": {},
   "source": [
    "## Reading a RAMSES output\n",
    "\n",
    "Import the `osyris` module and load the output of your choice (this will be output number `71` in this example)."
   ]
  },
  {
   "cell_type": "markdown",
   "metadata": {},
   "source": [
    "<div class=\"alert alert-warning\">\n",
    "\n",
    "**IMPORTANT**\n",
    "\n",
    "The data loader searches for descriptor files (`hydro_file_descriptor.txt`, `rt_file_descriptor` and the like)\n",
    "inside the output directory to get the variable names.\n",
    "\n",
    "If your version of RAMSES does not support this (the file descriptor did not exist in old versions of RAMSES),\n",
    "you will need to generate one and copy it into each of your output directories.\n",
    "\n",
    "</div>"
   ]
  },
  {
   "cell_type": "code",
   "execution_count": null,
   "metadata": {},
   "outputs": [],
   "source": [
    "import osyris\n",
    "import numpy as np"
   ]
  },
  {
   "cell_type": "code",
   "execution_count": null,
   "metadata": {},
   "outputs": [],
   "source": [
    "data = osyris.load(71, scale=\"au\")"
   ]
  },
  {
   "cell_type": "markdown",
   "metadata": {},
   "source": [
    "In the call to `load`, the first argument is the output number. \n",
    "**Note** that you can use `-1` to select the last output in the directory. \n",
    "\n",
    "The second argument is the spatial scale you want to convert distances to.\n",
    "Any length scale is allowed, e.g. `\"cm\"`, `\"au\"`, or `\"pc\"`, etc...\n",
    "\n",
    "The `data` object has a `__str__` representation, which will return a list of all the variables contained in the loaded file, along with their minimum and maximum values:"
   ]
  },
  {
   "cell_type": "code",
   "execution_count": null,
   "metadata": {},
   "outputs": [],
   "source": [
    "data"
   ]
  },
  {
   "cell_type": "markdown",
   "metadata": {},
   "source": [
    "The `data` object behaves very much like a Python dictionary, and accessing a single variable is achieved by simply doing"
   ]
  },
  {
   "cell_type": "code",
   "execution_count": null,
   "metadata": {},
   "outputs": [],
   "source": [
    "data[\"density\"]"
   ]
  },
  {
   "cell_type": "markdown",
   "metadata": {},
   "source": [
    "The information printed is the name of the variable, its minimum and maximum value, its physical unit, and the number of elements (or cells) in the variable.\n",
    "\n",
    "## Creating a 2D histogram\n",
    "\n",
    "We now wish to plot a 2d histogram of the logarithm of density versus logarithm of gas temperature,\n",
    "for all the cells inside the computational domain.\n",
    "We also use a logarithmic colormap which represents the cell counts in the $(\\rho,T)$ plane"
   ]
  },
  {
   "cell_type": "code",
   "execution_count": null,
   "metadata": {},
   "outputs": [],
   "source": [
    "osyris.histogram(data[\"density\"], data[\"temperature\"],\n",
    "                      norm=\"log\", loglog=True)"
   ]
  },
  {
   "cell_type": "markdown",
   "metadata": {},
   "source": [
    "## Simple cut plane\n",
    "\n",
    "The goal here is to create a 2D gas density slice, 100 au wide, through the plane normal to `z`,\n",
    "that passes through the center of the young star forming system.\n",
    "\n",
    "We first need to define where the center of the system is.\n",
    "A simple definition is to use the coordinate of the cell with the highest density in the simulation."
   ]
  },
  {
   "cell_type": "code",
   "execution_count": null,
   "metadata": {},
   "outputs": [],
   "source": [
    "ind = np.argmax(data[\"density\"])\n",
    "center = data[\"xyz\"][ind.values]\n",
    "center"
   ]
  },
  {
   "cell_type": "markdown",
   "metadata": {},
   "source": [
    "Once we have this center coordinate, we can use it as the origin for our cut plane:"
   ]
  },
  {
   "cell_type": "code",
   "execution_count": null,
   "metadata": {},
   "outputs": [],
   "source": [
    "osyris.plane({\"data\": data[\"density\"], \"norm\": \"log\"},\n",
    "             dx=100,\n",
    "             origin=center,\n",
    "             direction=\"z\")"
   ]
  },
  {
   "cell_type": "markdown",
   "metadata": {},
   "source": [
    "where the first argument is the variable to display, `dx` is the extent of the vieweing region,\n",
    "and `direction` is the normal to the slice plane."
   ]
  },
  {
   "cell_type": "markdown",
   "metadata": {},
   "source": [
    "<div class=\"alert alert-info\">\n",
    "\n",
    "**Note**\n",
    "\n",
    "The units of `dx` are consistent with the `scale` specified when reading in the snapshot at the start of the notebook (`au` in this case).\n",
    "\n",
    "</div>"
   ]
  }
 ],
 "metadata": {
  "kernelspec": {
   "display_name": "Python 3",
   "language": "python",
   "name": "python3"
  },
  "language_info": {
   "codemirror_mode": {
    "name": "ipython",
    "version": 3
   },
   "file_extension": ".py",
   "mimetype": "text/x-python",
   "name": "python",
   "nbconvert_exporter": "python",
   "pygments_lexer": "ipython3",
   "version": "3.7.7"
  }
 },
 "nbformat": 4,
 "nbformat_minor": 2
}
