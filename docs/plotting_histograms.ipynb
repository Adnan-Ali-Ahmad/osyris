{
 "cells": [
  {
   "cell_type": "markdown",
   "metadata": {},
   "source": [
    "# Plotting: histograms\n",
    "\n",
    "In this notebook, we illustrate the possibilities of plotting 1D and 2D histograms.\n",
    "\n",
    "Note that Osyris's plotting functions are wrapping Matplotlib's plotting functions,\n",
    "and forwards most Matplotlib arguments to the underlying function."
   ]
  },
  {
   "cell_type": "code",
   "execution_count": null,
   "metadata": {},
   "outputs": [],
   "source": [
    "import osyris\n",
    "import numpy as np\n",
    "import matplotlib.pyplot as plt\n",
    "\n",
    "path = \"osyrisdata/starformation\"\n",
    "data = osyris.Dataset(8, scale=\"au\", path=path).load()"
   ]
  },
  {
   "cell_type": "markdown",
   "metadata": {},
   "source": [
    "## 1D histogram of gas density\n",
    "\n",
    "The `histogram1d` function provides a simple way to quickly make 1D histogram plots:"
   ]
  },
  {
   "cell_type": "code",
   "execution_count": null,
   "metadata": {},
   "outputs": [],
   "source": [
    "osyris.histogram1d(data[\"hydro\"][\"density\"], logx=True)"
   ]
  },
  {
   "cell_type": "markdown",
   "metadata": {},
   "source": [
    "The bin edges can be specified using the `bins` parameter,\n",
    "which can either be an integer number or an array (similarly to Numpy's `bins` argument):"
   ]
  },
  {
   "cell_type": "code",
   "execution_count": null,
   "metadata": {},
   "outputs": [],
   "source": [
    "osyris.histogram1d(data[\"hydro\"][\"density\"], logx=True,\n",
    "                   bins=np.logspace(-18., -13., 10),\n",
    "                   color='m')"
   ]
  },
  {
   "cell_type": "markdown",
   "metadata": {},
   "source": [
    "## Multiple 1D histograms\n",
    "\n",
    "Multiple histograms can be over-plotted on the same axes by passing multiple layers:"
   ]
  },
  {
   "cell_type": "code",
   "execution_count": null,
   "metadata": {
    "tags": []
   },
   "outputs": [],
   "source": [
    "bins = np.linspace(-0.15, 0.15, 40)\n",
    "osyris.histogram1d({\"data\": data[\"hydro\"][\"B_field\"].x, \"alpha\": 0.5},\n",
    "                   {\"data\": data[\"hydro\"][\"B_field\"].y, \"alpha\": 0.5},\n",
    "                   {\"data\": data[\"hydro\"][\"B_field\"].z, \"alpha\": 0.5},\n",
    "                   logy=True, bins=bins)"
   ]
  },
  {
   "cell_type": "markdown",
   "metadata": {},
   "source": [
    "It is also possible to specify different bins for different layers:"
   ]
  },
  {
   "cell_type": "code",
   "execution_count": null,
   "metadata": {},
   "outputs": [],
   "source": [
    "osyris.histogram1d({\"data\": data[\"hydro\"][\"B_field\"].x, \"alpha\": 0.5, \"bins\": 40},\n",
    "                   {\"data\": data[\"hydro\"][\"B_field\"].y, \"alpha\": 0.5, \"bins\": 10},\n",
    "                   logy=True)"
   ]
  },
  {
   "cell_type": "markdown",
   "metadata": {},
   "source": [
    "## A 2D histogram of density vs magnetic field\n",
    "\n",
    "By default, the `histogram2d` function will show a binned count of cells"
   ]
  },
  {
   "cell_type": "code",
   "execution_count": null,
   "metadata": {},
   "outputs": [],
   "source": [
    "osyris.histogram2d(data[\"hydro\"][\"density\"], data[\"hydro\"][\"B_field\"],\n",
    "                   norm=\"log\", loglog=True)"
   ]
  },
  {
   "cell_type": "markdown",
   "metadata": {},
   "source": [
    "Additional components can be overlayed using `layers`:"
   ]
  },
  {
   "cell_type": "code",
   "execution_count": null,
   "metadata": {},
   "outputs": [],
   "source": [
    "osyris.histogram2d(\n",
    "    data[\"hydro\"][\"density\"], data[\"hydro\"][\"B_field\"],\n",
    "    {\"data\": data[\"hydro\"][\"mass\"], \"norm\": \"log\"}, # layer 1\n",
    "    {\"data\": data[\"amr\"][\"level\"], \"operation\": \"mean\",\n",
    "     \"mode\": \"contour\", \"colors\": \"k\"}, # layer 2\n",
    "    loglog=True)"
   ]
  },
  {
   "cell_type": "markdown",
   "metadata": {},
   "source": [
    "## Controlling the resolution\n",
    "\n",
    "By default, the histograms and the maps have a resolution of 256x256 pixels.\n",
    "This can be changed via the keyword argument `resolution`,\n",
    "which can either be an integer (in which case the same resolution is applied to both the x and y dimension)\n",
    "or a dict."
   ]
  },
  {
   "cell_type": "code",
   "execution_count": null,
   "metadata": {},
   "outputs": [],
   "source": [
    "# Create figure\n",
    "fig, ax = plt.subplots(1, 2, figsize=(12, 4.5))\n",
    "\n",
    "osyris.histogram2d(data[\"hydro\"][\"density\"], data[\"hydro\"][\"B_field\"],\n",
    "                   norm=\"log\", loglog=True, ax=ax[0],\n",
    "                   resolution=64)\n",
    "\n",
    "osyris.map({\"data\": data[\"hydro\"][\"density\"], \"norm\": \"log\"},\n",
    "           dx=2000 * osyris.units(\"au\"),\n",
    "           dy=1000 * osyris.units(\"au\"),\n",
    "           origin=center, direction=\"z\", ax=ax[1],\n",
    "           resolution={'x': 512, 'y': 256})\n",
    "\n",
    "ax[1].set_aspect(\"equal\")"
   ]
  },
  {
   "cell_type": "markdown",
   "metadata": {},
   "source": [
    "## Tiled plots\n",
    "\n",
    "In this example, we create two subplot axes with Matplotlib.\n",
    "\n",
    "Next, we plot in the left panel the log of density as a coloured slice with velocity vectors.\n",
    "The minimum and maximum of $\\log(\\rho)$ are forced to `-17` and `-11`.\n",
    "We give the `map` call the axes to use via the `ax` argument.\n",
    "Next, we overlay some custom chosen density contours with different line styles and colours.\n",
    "\n",
    "In the right panel, we plot a plane of temperature and overlay some lightgray contours showing the AMR levels.\n",
    "We specify only integer contour levels."
   ]
  },
  {
   "cell_type": "code",
   "execution_count": null,
   "metadata": {},
   "outputs": [],
   "source": [
    "# Create figure\n",
    "fig, ax = plt.subplots(1, 2, figsize=(12, 4.5))\n",
    "\n",
    "# Define region to plot\n",
    "dx = 2000.0 * osyris.units(\"au\")\n",
    "\n",
    "# Left plot: coloured density slice with overlayed contours\n",
    "osyris.map({\"data\": data[\"hydro\"][\"density\"], \"norm\": \"log\", \"vmin\": 1.0e-17, \"vmax\": 1.0e-11},\n",
    "           {\"data\": data[\"hydro\"][\"velocity\"], \"mode\": \"vec\"},\n",
    "           {\"data\": data[\"hydro\"][\"density\"], \"mode\": \"contour\",\n",
    "            \"levels\": [1.0e-17,1.0e-16,1.0e-12], \"colors\": ('yellow','k',\"lime\"),\n",
    "            \"linewidths\": [2,5,2], \"linestyles\": [\"solid\",\"dashed\",\"solid\"],\n",
    "            \"cmap\": None, \"labels\": False},\n",
    "           dx=dx, origin=center, direction=\"z\", ax=ax[0])\n",
    "\n",
    "osyris.map({\"data\": data[\"hydro\"][\"temperature\"], \"norm\": \"log\", \"mode\": \"contourf\",\n",
    "            \"levels\": np.logspace(0.9, 2, 11), \"cmap\": \"hot\"},\n",
    "           {\"data\": data[\"amr\"][\"level\"], \"mode\": \"contour\", \"colors\": \"w\", \"levels\": [6, 7, 8]},\n",
    "           dx=dx, origin=center, direction=\"z\", ax=ax[1])"
   ]
  },
  {
   "cell_type": "markdown",
   "metadata": {},
   "source": [
    "## Difference between two snapshots\n",
    "\n",
    "Here, we want to make a map of the difference in density between two snapshots.\n",
    "Because we do not necessarily have the same number of cells at the same place,\n",
    "we first have to make uniform 2D maps using the `map` function,\n",
    "which we can then directly compare.\n",
    "\n",
    "The `map` function actually returns an object that contains the raw data that was used to create the figure.\n",
    "By using the `plot=False` argument, we can silence the figure generation, and use the data in a custom figure.\n",
    "\n",
    "**Note:** For this to make sense, the two outputs have to be centered around the same center point."
   ]
  },
  {
   "cell_type": "code",
   "execution_count": null,
   "metadata": {},
   "outputs": [],
   "source": [
    "# Read data from an earlier snapshot\n",
    "data_old = osyris.Dataset(5, scale=\"au\", path=path).load()"
   ]
  },
  {
   "cell_type": "markdown",
   "metadata": {},
   "source": [
    "## Scatter plot\n",
    "\n",
    "Make a scatter plot of density vs temperature, with only 1 in 1000 cells.\n",
    "Colour the dots according to the magnitude of the gas velocity."
   ]
  },
  {
   "cell_type": "code",
   "execution_count": null,
   "metadata": {},
   "outputs": [],
   "source": [
    "step = 100\n",
    "osyris.scatter(data[\"hydro\"][\"density\"][::step],\n",
    "               data[\"hydro\"][\"velocity\"][::step],\n",
    "               c=data[\"hydro\"][\"thermal_pressure\"][::step],\n",
    "               norm=\"log\", loglog=True)"
   ]
  }
 ],
 "metadata": {
  "kernelspec": {
   "display_name": "Python 3 (ipykernel)",
   "language": "python",
   "name": "python3"
  },
  "language_info": {
   "codemirror_mode": {
    "name": "ipython",
    "version": 3
   },
   "file_extension": ".py",
   "mimetype": "text/x-python",
   "name": "python",
   "nbconvert_exporter": "python",
   "pygments_lexer": "ipython3",
   "version": "3.9.5"
  }
 },
 "nbformat": 4,
 "nbformat_minor": 4
}
