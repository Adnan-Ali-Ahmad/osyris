{
 "cells": [
  {
   "cell_type": "markdown",
   "metadata": {},
   "source": [
    "# Basic usage\n",
    "\n",
    "We first begin by downloading and unpacking the sample data"
   ]
  },
  {
   "cell_type": "code",
   "execution_count": null,
   "metadata": {
    "scrolled": false
   },
   "outputs": [],
   "source": [
    "!wget -O osyris_sample_data.tar.gz https://project.esss.dk/owncloud/index.php/s/LLwJuO5RcAqfTCW/download\n",
    "!tar -xzf osyris_sample_data.tar.gz"
   ]
  },
  {
   "cell_type": "markdown",
   "metadata": {},
   "source": [
    "## Reading a RAMSES output\n",
    "\n",
    "Import the `osyris` module and load the output of your choice (this will be output number `71` in this example).\n",
    "\n",
    "**IMPORTANT:** The data loader searches for a `hydro_file_descriptor.txt` inside the output directory to get the variable names, so make sure your version of RAMSES supports this. If it doesn’t, you can edit the `var_names` list in the `config.py` configuration file, under `default_values` to match your data structure. By default it will try to guess by itself which are the variables to read, but this will *almost certainly* fail without editing it!"
   ]
  },
  {
   "cell_type": "code",
   "execution_count": null,
   "metadata": {},
   "outputs": [],
   "source": [
    "import osyris\n",
    "mydata = osyris.RamsesData(71,scale=\"au\")\n",
    "mydata"
   ]
  },
  {
   "cell_type": "markdown",
   "metadata": {},
   "source": [
    "In the call to `RamsesData`, the first argument is the output number. \n",
    "**Note** that you can use `-1` to select the last output in the directory. \n",
    "\n",
    "The second argument is the spatial scale you want to convert distances to. Possible choices are `\"cm\"`, `\"au\"` or `\"pc\"`.\n",
    "\n",
    "The text `__repr__` of the returned object lists all the variables contained in the loaded file, along with their minimum and maximu values.\n",
    "\n",
    "`osyris` tries to guess the units of each variable field according to its name. This is done by the `get_units()` function and can easily be modified if you have non-standard variables.\n",
    "\n",
    "## Creating a 2D histogram\n",
    "\n",
    "We now wish to plot a 2d histogram of the logarithm of density `log_rho` versus logarithm of gas temperature `log_T` for all the cells inside the computational domain. We also use a logarithmic colormap which represents the cell density in the $(\\rho,T)$ plane"
   ]
  },
  {
   "cell_type": "code",
   "execution_count": null,
   "metadata": {},
   "outputs": [],
   "source": [
    "osyris.plot_histogram(mydata.log_rho, mydata.log_T,\n",
    "                      scalar_args={\"cmap\": \"log\"})"
   ]
  },
  {
   "cell_type": "markdown",
   "metadata": {},
   "source": [
    "You can also save the figure to file directly by specifying the argument `fname=\"rhoT_histogram.pdf\"` in the call."
   ]
  },
  {
   "cell_type": "markdown",
   "metadata": {},
   "source": [
    "## Plotting a 2D slice\n",
    "\n",
    "To take a slice through the data, simply use"
   ]
  },
  {
   "cell_type": "code",
   "execution_count": null,
   "metadata": {},
   "outputs": [],
   "source": [
    "osyris.plot_slice(mydata.log_rho, direction=\"z\",\n",
    "                  vec=mydata.velocity, dx=100)"
   ]
  },
  {
   "cell_type": "markdown",
   "metadata": {},
   "source": [
    "where the first argument is the variable to display, `direction` is the normal to the slice plane, `vec` is the (optional) variable to be used to plot vectors, and `dx` is the extent of the slice.\n",
    "\n",
    "**Note:** the units of `dx` are consistent with the scale specified when reading in the snapshot using `RamsesOutput` (`au` in this case).\n",
    "\n",
    "## Further examples\n",
    "\n",
    "For more examples of how you can use `osyris`, go to the [examples](examples.html) page."
   ]
  }
 ],
 "metadata": {
  "kernelspec": {
   "display_name": "Python 3",
   "language": "python",
   "name": "python3"
  },
  "language_info": {
   "codemirror_mode": {
    "name": "ipython",
    "version": 3
   },
   "file_extension": ".py",
   "mimetype": "text/x-python",
   "name": "python",
   "nbconvert_exporter": "python",
   "pygments_lexer": "ipython3",
   "version": "3.7.3"
  }
 },
 "nbformat": 4,
 "nbformat_minor": 2
}
