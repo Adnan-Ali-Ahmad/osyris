{
 "cells": [
  {
   "cell_type": "markdown",
   "metadata": {},
   "source": [
    "# Data structures\n",
    "\n",
    "The main data structures are:\n",
    "\n",
    "- the `Array` object, which can be thought of as a numpy `ndarray` with a physical unit\n",
    "- the `Dataset` object, which acts as a dictionary of Arrays, and can also contain additional metadata\n",
    "\n",
    "This notebook aims to give both a description of each structure,\n",
    "and show how they can be used efficiently to manipulate and explore your simulation data.\n",
    "They aim to have an API which is close to the Python dict and the numpy `ndarray`."
   ]
  },
  {
   "cell_type": "code",
   "execution_count": null,
   "metadata": {},
   "outputs": [],
   "source": [
    "import osyris\n",
    "import numpy as np"
   ]
  },
  {
   "cell_type": "markdown",
   "metadata": {},
   "source": [
    "We load a data output from a star formation simulation"
   ]
  },
  {
   "cell_type": "code",
   "execution_count": null,
   "metadata": {},
   "outputs": [],
   "source": [
    "data = osyris.load(71, scale=\"au\", path=\"osyrisdata\")"
   ]
  },
  {
   "cell_type": "markdown",
   "metadata": {},
   "source": [
    "## The `Dataset` class\n",
    "\n",
    "The `load` function returns a `Dataset` object that has a `__str__` representation,\n",
    "which list all the contents of `data` in an easy manner:"
   ]
  },
  {
   "cell_type": "code",
   "execution_count": null,
   "metadata": {},
   "outputs": [],
   "source": [
    "data"
   ]
  },
  {
   "cell_type": "markdown",
   "metadata": {},
   "source": [
    "The `Dataset` class aims to behave very similarly to a Python `dict`.\n",
    "To access one element of `data`, we index it by using the variable names"
   ]
  },
  {
   "cell_type": "code",
   "execution_count": null,
   "metadata": {},
   "outputs": [],
   "source": [
    "data[\"density\"]"
   ]
  },
  {
   "cell_type": "markdown",
   "metadata": {},
   "source": [
    "Each entry in the `Dataset` is an `Array` object, which will be described in detail below.\n",
    "\n",
    "The `Dataset` also provides standard dictionary iterators, which can be used to loop over its contents:"
   ]
  },
  {
   "cell_type": "code",
   "execution_count": null,
   "metadata": {},
   "outputs": [],
   "source": [
    "data.keys()"
   ]
  },
  {
   "cell_type": "code",
   "execution_count": null,
   "metadata": {},
   "outputs": [],
   "source": [
    "data.values()"
   ]
  },
  {
   "cell_type": "markdown",
   "metadata": {},
   "source": [
    "Finally, it is possible to store additional metadata under the `meta` property"
   ]
  },
  {
   "cell_type": "code",
   "execution_count": null,
   "metadata": {},
   "outputs": [],
   "source": [
    "data.meta"
   ]
  },
  {
   "cell_type": "markdown",
   "metadata": {},
   "source": [
    "## The `Array` object\n",
    "\n",
    "Each entry in the `data` dictionary is an `Array` object:"
   ]
  },
  {
   "cell_type": "code",
   "execution_count": null,
   "metadata": {},
   "outputs": [],
   "source": [
    "type(data[\"density\"])"
   ]
  },
  {
   "cell_type": "markdown",
   "metadata": {},
   "source": [
    "Its string representation lists the array's key in its parent `Dataset`,\n",
    "the minimum and maximum values in the array, its physical unit, and the number of elements in the array."
   ]
  },
  {
   "cell_type": "code",
   "execution_count": null,
   "metadata": {},
   "outputs": [],
   "source": [
    "data[\"density\"]"
   ]
  },
  {
   "cell_type": "markdown",
   "metadata": {},
   "source": [
    "An `Array` can basically be thought of as a `numpy` array with a physical unit: "
   ]
  },
  {
   "cell_type": "code",
   "execution_count": null,
   "metadata": {},
   "outputs": [],
   "source": [
    "data[\"density\"].values"
   ]
  },
  {
   "cell_type": "code",
   "execution_count": null,
   "metadata": {},
   "outputs": [],
   "source": [
    "data[\"density\"].unit"
   ]
  },
  {
   "cell_type": "markdown",
   "metadata": {},
   "source": [
    "Operations you would normally perform on a numpy array, such as slicing, are supported:"
   ]
  },
  {
   "cell_type": "code",
   "execution_count": null,
   "metadata": {},
   "outputs": [],
   "source": [
    "data[\"density\"][101:255]"
   ]
  },
  {
   "cell_type": "markdown",
   "metadata": {},
   "source": [
    "Note that this returns a view onto the original data, instead of making a copy.\n",
    "\n",
    "Using `numpy`'s `array_function` and `array_ufunc` protocols, `Array` also supports most `numpy` operations, e.g."
   ]
  },
  {
   "cell_type": "code",
   "execution_count": null,
   "metadata": {},
   "outputs": [],
   "source": [
    "np.log10(data[\"density\"])"
   ]
  },
  {
   "cell_type": "code",
   "execution_count": null,
   "metadata": {},
   "outputs": [],
   "source": [
    "np.sum(data[\"density\"])"
   ]
  },
  {
   "cell_type": "markdown",
   "metadata": {},
   "source": [
    "Note that in these cases, a new `Array` is returned, and they are not attached to any `Dataset`,\n",
    "and therefore do not have a name.\n",
    "To insert a new `Array` into a `Dataset`, simply use the dictionary syntax"
   ]
  },
  {
   "cell_type": "code",
   "execution_count": null,
   "metadata": {},
   "outputs": [],
   "source": [
    "data[\"log_rho\"] = np.log10(data[\"density\"])\n",
    "data"
   ]
  },
  {
   "cell_type": "markdown",
   "metadata": {},
   "source": [
    "### Example: find the system center\n",
    "\n",
    "A simple way to find the centre of our protostellar system is to use the coordinate of the cell with the highest density in the simulation."
   ]
  },
  {
   "cell_type": "code",
   "execution_count": null,
   "metadata": {},
   "outputs": [],
   "source": [
    "ind = np.argmax(data[\"density\"])\n",
    "center = data[\"xyz\"][ind.values]\n",
    "center"
   ]
  },
  {
   "cell_type": "markdown",
   "metadata": {},
   "source": [
    "## Array arithmetic and units\n",
    "\n",
    "Units are automatically handled (and conversions carried out) when performing arithmetic on arrays.\n",
    "For instance, we want to compute a new quantity which represents the mass inside each cell.\n",
    "\n",
    "The data density is in `g / cm**3`"
   ]
  },
  {
   "cell_type": "code",
   "execution_count": null,
   "metadata": {},
   "outputs": [],
   "source": [
    "data[\"density\"]"
   ]
  },
  {
   "cell_type": "markdown",
   "metadata": {},
   "source": [
    "while the cell size is in astronomical units"
   ]
  },
  {
   "cell_type": "code",
   "execution_count": null,
   "metadata": {},
   "outputs": [],
   "source": [
    "data[\"dx\"]"
   ]
  },
  {
   "cell_type": "markdown",
   "metadata": {},
   "source": [
    "However, we can still multiply them together"
   ]
  },
  {
   "cell_type": "code",
   "execution_count": null,
   "metadata": {},
   "outputs": [],
   "source": [
    "data[\"mass\"] = data[\"density\"] * (data[\"dx\"]**3)\n",
    "data[\"mass\"]"
   ]
  },
  {
   "cell_type": "markdown",
   "metadata": {},
   "source": [
    "The conversion between `au` and `cm` is automatically handled by first converting both operands to their base units, before performing the operation.\n",
    "\n",
    "This helps to free mental capacity and allows the user to focus on what is important: **doing science**.\n",
    "\n",
    "### Manual unit conversions\n",
    "\n",
    "Sometimes, it is useful to convert from CGS units to other base units:"
   ]
  },
  {
   "cell_type": "code",
   "execution_count": null,
   "metadata": {},
   "outputs": [],
   "source": [
    "data[\"mass\"].to(\"msun\")\n",
    "data[\"mass\"]"
   ]
  },
  {
   "cell_type": "markdown",
   "metadata": {},
   "source": [
    "### Units also provide safety\n",
    "\n",
    "Physical units also provide a certain level of safety around operations.\n",
    "By assigning some quantities to intermediate variables,\n",
    "it is often easy to lose track of the exact quantity (or at least its dimensionality) that a variable represents.\n",
    "\n",
    "Physical units can prevent performing operations on mismatching quantities:"
   ]
  },
  {
   "cell_type": "code",
   "execution_count": null,
   "metadata": {},
   "outputs": [],
   "source": [
    "try:\n",
    "    data[\"density\"] + data[\"mass\"]\n",
    "except:\n",
    "    print(\"DimensionalityError: Cannot add 'density' and 'mass', mismatching units.\")"
   ]
  },
  {
   "cell_type": "markdown",
   "metadata": {},
   "source": [
    "Physical units can also help find errors in an analysis workflow,\n",
    "when looking at a final value for a computed star formation rate for example,\n",
    "and realising that the final unit represents a quantity per unit volume,\n",
    "while the user was trying to calculate an integrate rate."
   ]
  },
  {
   "cell_type": "markdown",
   "metadata": {},
   "source": [
    "### Automatic broadcast\n",
    "\n",
    "Arrays can either represent a scalar quantity (e.g. density) or a vector quantity (e.g. velocity).\n",
    "When performing arithmetic that involves both scalars and vectors, an automatic broadcast mechanism handles the operations:"
   ]
  },
  {
   "cell_type": "code",
   "execution_count": null,
   "metadata": {},
   "outputs": [],
   "source": [
    "data[\"momentum\"] = data[\"density\"] * data[\"velocity\"]\n",
    "data[\"momentum\"]"
   ]
  },
  {
   "cell_type": "markdown",
   "metadata": {},
   "source": [
    "### Operations with floats\n",
    "\n",
    "Operations with floats are also supported:"
   ]
  },
  {
   "cell_type": "code",
   "execution_count": null,
   "metadata": {},
   "outputs": [],
   "source": [
    "data[\"density\"] * 1.0e5"
   ]
  }
 ],
 "metadata": {
  "kernelspec": {
   "display_name": "Python 3",
   "language": "python",
   "name": "python3"
  },
  "language_info": {
   "codemirror_mode": {
    "name": "ipython",
    "version": 3
   },
   "file_extension": ".py",
   "mimetype": "text/x-python",
   "name": "python",
   "nbconvert_exporter": "python",
   "pygments_lexer": "ipython3",
   "version": "3.9.1"
  }
 },
 "nbformat": 4,
 "nbformat_minor": 2
}
