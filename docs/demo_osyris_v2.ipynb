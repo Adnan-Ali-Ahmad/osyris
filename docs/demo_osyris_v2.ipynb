{
 "cells": [
  {
   "cell_type": "markdown",
   "metadata": {},
   "source": [
    "# Osyris 2.0 prototype\n",
    "\n",
    "### New features\n",
    "\n",
    "- More Pythonic API\n",
    "- Runtime physical units using pint\n",
    "- Arithmetic operations between data arrays\n",
    "- More generic interface for plots (easier to use custom matplotlib options)\n",
    "- Cleaner data loader"
   ]
  },
  {
   "cell_type": "code",
   "execution_count": null,
   "metadata": {},
   "outputs": [],
   "source": [
    "import osyris\n",
    "import numpy as np\n",
    "import matplotlib.pyplot as plt"
   ]
  },
  {
   "cell_type": "code",
   "execution_count": null,
   "metadata": {},
   "outputs": [],
   "source": [
    "%matplotlib notebook"
   ]
  },
  {
   "cell_type": "markdown",
   "metadata": {},
   "source": [
    "## Loading a Ramses output\n",
    "\n",
    "We load a data output from a star formation simulation"
   ]
  },
  {
   "cell_type": "code",
   "execution_count": null,
   "metadata": {},
   "outputs": [],
   "source": [
    "data = osyris.load(71, scale=\"au\")"
   ]
  },
  {
   "cell_type": "markdown",
   "metadata": {},
   "source": [
    "## The `data` object\n",
    "\n",
    "The `data` object has a `__str__` representation, which means you can get information on its content by just using the variable name:"
   ]
  },
  {
   "cell_type": "code",
   "execution_count": null,
   "metadata": {},
   "outputs": [],
   "source": [
    "data"
   ]
  },
  {
   "cell_type": "markdown",
   "metadata": {},
   "source": [
    "The `data` object aims to behave very similarly to a Python `dict`"
   ]
  },
  {
   "cell_type": "code",
   "execution_count": null,
   "metadata": {},
   "outputs": [],
   "source": [
    "data[\"density\"]"
   ]
  },
  {
   "cell_type": "code",
   "execution_count": null,
   "metadata": {},
   "outputs": [],
   "source": [
    "data.keys()"
   ]
  },
  {
   "cell_type": "code",
   "execution_count": null,
   "metadata": {},
   "outputs": [],
   "source": [
    "data.values()"
   ]
  },
  {
   "cell_type": "markdown",
   "metadata": {},
   "source": [
    "Additional metadata is stored under the `meta` property"
   ]
  },
  {
   "cell_type": "code",
   "execution_count": null,
   "metadata": {},
   "outputs": [],
   "source": [
    "data.meta"
   ]
  },
  {
   "cell_type": "markdown",
   "metadata": {},
   "source": [
    "## The `Array` object\n",
    "\n",
    "Each entry in the `data` dictionary is an `Array` object:"
   ]
  },
  {
   "cell_type": "code",
   "execution_count": null,
   "metadata": {},
   "outputs": [],
   "source": [
    "type(data[\"density\"])"
   ]
  },
  {
   "cell_type": "code",
   "execution_count": null,
   "metadata": {},
   "outputs": [],
   "source": [
    "data[\"density\"]"
   ]
  },
  {
   "cell_type": "markdown",
   "metadata": {},
   "source": [
    "An `Array` can basically be thought of as a `numpy` array with a physical unit: "
   ]
  },
  {
   "cell_type": "code",
   "execution_count": null,
   "metadata": {},
   "outputs": [],
   "source": [
    "data[\"density\"].values"
   ]
  },
  {
   "cell_type": "code",
   "execution_count": null,
   "metadata": {},
   "outputs": [],
   "source": [
    "data[\"density\"].unit"
   ]
  },
  {
   "cell_type": "markdown",
   "metadata": {},
   "source": [
    "Operations you would normally perform on a numpy array, such as slicing, are supported:"
   ]
  },
  {
   "cell_type": "code",
   "execution_count": null,
   "metadata": {},
   "outputs": [],
   "source": [
    "data[\"density\"][101]"
   ]
  },
  {
   "cell_type": "markdown",
   "metadata": {},
   "source": [
    "Using `numpy`'s `array_function` and `array_ufunc` protocols, `Array` also supports most `numpy` operations, e.g."
   ]
  },
  {
   "cell_type": "code",
   "execution_count": null,
   "metadata": {},
   "outputs": [],
   "source": [
    "np.log10(data[\"density\"])"
   ]
  },
  {
   "cell_type": "code",
   "execution_count": null,
   "metadata": {},
   "outputs": [],
   "source": [
    "np.sum(data[\"density\"])"
   ]
  },
  {
   "cell_type": "markdown",
   "metadata": {},
   "source": [
    "### Example: find system center"
   ]
  },
  {
   "cell_type": "code",
   "execution_count": null,
   "metadata": {},
   "outputs": [],
   "source": [
    "ind = np.argmax(data[\"density\"])\n",
    "center = data[\"xyz\"][ind.values]\n",
    "center"
   ]
  },
  {
   "cell_type": "markdown",
   "metadata": {},
   "source": [
    "## Array arithmetic and units\n",
    "\n",
    "Units are automatically handled, and conversions performed, when performing arithmetic on arrays.\n",
    "For instance, we want to compute a new quantity which represents the mass inside each cell."
   ]
  },
  {
   "cell_type": "code",
   "execution_count": null,
   "metadata": {},
   "outputs": [],
   "source": [
    "data[\"density\"]"
   ]
  },
  {
   "cell_type": "code",
   "execution_count": null,
   "metadata": {},
   "outputs": [],
   "source": [
    "data[\"dx\"]"
   ]
  },
  {
   "cell_type": "code",
   "execution_count": null,
   "metadata": {},
   "outputs": [],
   "source": [
    "data[\"mass\"] = data[\"density\"] * (data[\"dx\"] * data[\"dx\"] * data[\"dx\"])\n",
    "data[\"mass\"]"
   ]
  },
  {
   "cell_type": "markdown",
   "metadata": {},
   "source": [
    "Conversion between `au` and `cm` is automatically handled by first converting both operands to their base units, before performing the operation.\n",
    "\n",
    "This helps to free mental capacity and allows the user to focus on what is important: doing science.\n",
    "\n",
    "### Manual unit conversions\n",
    "\n",
    "Sometimes, it is useful to convert from CGS units to other base units:"
   ]
  },
  {
   "cell_type": "code",
   "execution_count": null,
   "metadata": {},
   "outputs": [],
   "source": [
    "data[\"mass\"].to(\"msun\")\n",
    "data[\"mass\"]"
   ]
  },
  {
   "cell_type": "markdown",
   "metadata": {},
   "source": [
    "### Units also provide safety"
   ]
  },
  {
   "cell_type": "code",
   "execution_count": null,
   "metadata": {},
   "outputs": [],
   "source": [
    "data[\"density\"] + data[\"mass\"]"
   ]
  },
  {
   "cell_type": "markdown",
   "metadata": {},
   "source": [
    "### Automatic broadcast\n",
    "\n",
    "Arrays can either represent a scalar quantity (e.g. density) or a vector quantity (e.g. velocity).\n",
    "When performing arithmetic that involves both scalars and vectors, an automatic broadcast mechanism handles the operations:"
   ]
  },
  {
   "cell_type": "code",
   "execution_count": null,
   "metadata": {},
   "outputs": [],
   "source": [
    "data[\"momentum\"] = data[\"density\"] * data[\"velocity\"]\n",
    "data[\"momentum\"]"
   ]
  },
  {
   "cell_type": "markdown",
   "metadata": {},
   "source": [
    "### Operations with floats\n",
    "\n",
    "Operations with floats are also supported:"
   ]
  },
  {
   "cell_type": "code",
   "execution_count": null,
   "metadata": {},
   "outputs": [],
   "source": [
    "data[\"density\"] * 1.0e5"
   ]
  },
  {
   "cell_type": "markdown",
   "metadata": {},
   "source": [
    "## Plotting\n",
    "\n",
    "The basic functionality of Osyris 1.0 has been implemented in version 2.0.\n",
    "\n",
    "### 2D histogram of density vs magnetic field\n",
    "\n",
    "By default, the `histogram` function will show a binned count of cells"
   ]
  },
  {
   "cell_type": "code",
   "execution_count": null,
   "metadata": {},
   "outputs": [],
   "source": [
    "osyris.plot.histogram(data[\"density\"], data[\"B_field\"],\n",
    "                      norm=\"log\", loglog=True)"
   ]
  },
  {
   "cell_type": "markdown",
   "metadata": {},
   "source": [
    "Additional components can be overlayed using `layers`:"
   ]
  },
  {
   "cell_type": "code",
   "execution_count": null,
   "metadata": {},
   "outputs": [],
   "source": [
    "osyris.plot.histogram(data[\"density\"], data[\"B_field\"],\n",
    "                      {\"data\": data[\"mass\"], \"norm\": \"log\"},\n",
    "                      {\"data\": data[\"level\"], \"operation\": \"mean\", \"mode\": \"contour\", \"colors\": \"k\"},\n",
    "                      loglog=True)"
   ]
  },
  {
   "cell_type": "markdown",
   "metadata": {},
   "source": [
    "### Simple cut plane\n",
    "\n",
    "Create a 2D gas density slice 100 au wide through the `z` plane, with velocity vectors overlayed as arrows, once agains using `layers`:"
   ]
  },
  {
   "cell_type": "code",
   "execution_count": null,
   "metadata": {
    "scrolled": false
   },
   "outputs": [],
   "source": [
    "osyris.plane({\"data\": data[\"density\"], \"norm\": \"log\"},\n",
    "             {\"data\": data[\"velocity\"], \"mode\": \"vec\"},\n",
    "             dx=100,\n",
    "             origin=center,\n",
    "             direction=\"z\")"
   ]
  },
  {
   "cell_type": "markdown",
   "metadata": {},
   "source": [
    "You can add as many layers as you like"
   ]
  },
  {
   "cell_type": "code",
   "execution_count": null,
   "metadata": {},
   "outputs": [],
   "source": [
    "osyris.plane({\"data\": data[\"density\"], \"norm\": \"log\"},\n",
    "             {\"data\": data[\"velocity\"], \"mode\": \"vec\"},\n",
    "             {\"data\": data[\"level\"], \"mode\": \"contour\", \"colors\": \"red\"},\n",
    "             {\"data\": data[\"B_field\"], \"mode\": \"stream\", \"color\": \"gray\"},\n",
    "             dx=100,\n",
    "             origin=center,\n",
    "             direction=\"z\")"
   ]
  },
  {
   "cell_type": "markdown",
   "metadata": {},
   "source": [
    "## Selective loading\n",
    "\n",
    "In Osyris 1.0, we could load only a subset of the domain by selecting a region around the center.\n",
    "This mechanism has been generalized in version 2.0 to accept a custom function to perform the selection.\n",
    "\n",
    "As an example, to load all the cells with density > 1.0e-13 g/cm^3, we use a selection criterion"
   ]
  },
  {
   "cell_type": "code",
   "execution_count": null,
   "metadata": {},
   "outputs": [],
   "source": [
    "data2 = osyris.load(71, scale=\"au\", select={\"density\": lambda x : x > 1.0e-13})"
   ]
  },
  {
   "cell_type": "code",
   "execution_count": null,
   "metadata": {},
   "outputs": [],
   "source": [
    "osyris.plot.histogram(data2[\"density\"], data2[\"B_field\"],\n",
    "                      norm=\"log\", loglog=True)"
   ]
  },
  {
   "cell_type": "markdown",
   "metadata": {},
   "source": [
    "Multiple selection criteria are ANDed:"
   ]
  },
  {
   "cell_type": "code",
   "execution_count": null,
   "metadata": {},
   "outputs": [],
   "source": [
    "data2 = osyris.load(71, scale=\"au\", select={\"density\": lambda x : x > 1.0e-13,\n",
    "                                            \"xyz_x\": lambda x : abs(x - 5517.) < 50})"
   ]
  },
  {
   "cell_type": "code",
   "execution_count": null,
   "metadata": {},
   "outputs": [],
   "source": [
    "osyris.plane({\"data\": data2[\"density\"], \"norm\": \"log\"},\n",
    "             dx=200,\n",
    "             origin=center,\n",
    "             direction='z')"
   ]
  },
  {
   "cell_type": "markdown",
   "metadata": {},
   "source": [
    "## Future work\n",
    "\n",
    "### Was in 1.0, not yet in 2.0\n",
    "\n",
    "- Particles and sink particles loaders\n",
    "- Column density plots\n",
    "- \n",
    "\n",
    "### Future additions/requirements\n",
    "\n",
    "- Lazy and distributed loading (probably use [Dask](https://dask.org/)) for large datasets\n",
    "- Automatic resampling on figure zoom (useful for cut planes, also useful for histograms?)\n",
    "- Full operations support for `Array` (currently missing a number of operations)\n"
   ]
  },
  {
   "cell_type": "code",
   "execution_count": null,
   "metadata": {},
   "outputs": [],
   "source": []
  },
  {
   "cell_type": "code",
   "execution_count": null,
   "metadata": {},
   "outputs": [],
   "source": []
  },
  {
   "cell_type": "markdown",
   "metadata": {},
   "source": [
    "## More plots\n",
    "\n",
    "### 1. Plane at an arbitrary angle"
   ]
  },
  {
   "cell_type": "code",
   "execution_count": null,
   "metadata": {
    "scrolled": false
   },
   "outputs": [],
   "source": [
    "osyris.plane({\"data\": data[\"density\"], \"norm\": \"log\"},\n",
    "             {\"data\": data[\"velocity\"], \"mode\": \"vec\", \"color\": data[\"velocity\"]},\n",
    "             dx=100,\n",
    "             origin=center,\n",
    "             direction=[-1, 1, 1])"
   ]
  },
  {
   "cell_type": "markdown",
   "metadata": {},
   "source": [
    "### 2. Automatic “top/side” slice orientation according to angular momentum\n",
    "\n",
    "Create a 2D slice of the logarithm of density 50 au wide through the data using automatic orientation based on the angular momentum in the data. This is useful for looking at disks. Use the `\"top\"` direction for the slice to view the disk from above"
   ]
  },
  {
   "cell_type": "code",
   "execution_count": null,
   "metadata": {},
   "outputs": [],
   "source": [
    "osyris.plane({\"data\": data[\"density\"], \"norm\": \"log\"},\n",
    "             {\"data\": data[\"velocity\"], \"mode\": \"vec\"},\n",
    "             dx=50,\n",
    "             origin=center,\n",
    "             direction=\"top\")"
   ]
  },
  {
   "cell_type": "markdown",
   "metadata": {},
   "source": [
    "Use the `direction=\"side\"` for the slice to view the disk from the side"
   ]
  },
  {
   "cell_type": "code",
   "execution_count": null,
   "metadata": {},
   "outputs": [],
   "source": [
    "osyris.plane({\"data\": data[\"density\"], \"norm\": \"log\"},\n",
    "             {\"data\": data[\"velocity\"], \"mode\": \"vec\"},\n",
    "             dx=50,\n",
    "             origin=center,\n",
    "             direction=\"side\")"
   ]
  },
  {
   "cell_type": "markdown",
   "metadata": {},
   "source": [
    "### 3. Embedding plots in existing matplotlib axes\n",
    "\n",
    "In this example, we create two subplot axes with `matplotlib`.\n",
    "\n",
    "Next, we plot in the left panel the log of density as a coloured slice with velocity vectors.\n",
    "The minimum and maximum of $\\log(\\rho)$ is forced to `-14` and `-9`.\n",
    "We give the `plane` call the axes to use via the `ax` argument.\n",
    "Next, we overlay some custom chosen density contours with different line styles and colours.\n",
    "\n",
    "In the right panel, we plot a plane of temperature and overlay some lightgray contours showing the AMR levels.\n",
    "We specify only integer contour levels."
   ]
  },
  {
   "cell_type": "code",
   "execution_count": null,
   "metadata": {
    "scrolled": false
   },
   "outputs": [],
   "source": [
    "# Create figure\n",
    "fig = plt.figure(figsize=(8, 3))\n",
    "ax1 = fig.add_subplot(121)\n",
    "ax2 = fig.add_subplot(122)\n",
    "plt.subplots_adjust(wspace=0.5)\n",
    "\n",
    "# Define region to plot\n",
    "dx = 15.0\n",
    "\n",
    "# Left plot: coloured density slice with overlayed contours\n",
    "osyris.plane({\"data\": data[\"density\"], \"norm\": \"log\",\n",
    "                               \"vmin\": 1.0e-14,\n",
    "                               \"vmax\": 1.0e-9},\n",
    "             {\"data\": data[\"velocity\"], \"mode\": \"vec\"},\n",
    "             {\"data\": data[\"density\"], \"mode\": \"contour\",\n",
    "                  \"levels\": [1.0e-12,1.0e-11,1.0e-9],\n",
    "                  \"colors\": ('yellow','k',\"lime\"),\n",
    "                  \"linewidths\": [2,5,2],\n",
    "                  \"linestyles\": [\"solid\",\"dashed\",\"solid\"],\n",
    "                  \"cmap\": None,\n",
    "                  \"labels\": False},\n",
    "             dx=dx,\n",
    "             origin=center,\n",
    "             direction=\"z\", ax=ax1)\n",
    "\n",
    "osyris.plane({\"data\": data[\"temperature\"], \"norm\": \"log\", \"mode\": \"contourf\",\n",
    "              \"levels\": np.logspace(1.4, 3, 21), \"cmap\": \"hot\"},\n",
    "             {\"data\": data[\"level\"], \"mode\": \"contour\", \"colors\": \"w\", \"levels\": [14, 15, 16]},\n",
    "             dx=dx,\n",
    "             origin=center,\n",
    "             direction=\"z\", ax=ax2)"
   ]
  },
  {
   "cell_type": "markdown",
   "metadata": {},
   "source": [
    "### 4. Plot only a subset of cells belonging to a disk\n",
    "\n",
    "In this example, we select cells according to their density and plot only those. This is done by creating a new field and using the `numpy` `where` function. To combine more than one selection criteria, use the `logical_and` `numpy` function.\n",
    "\n",
    "This is useful for plotting disks around protostars, for example. Here we select the cells with a density in the range $-12.5 < \\log(\\rho) < -11.0$. After plotting the disk, we use 2 different methods to compute the disk mass."
   ]
  },
  {
   "cell_type": "code",
   "execution_count": null,
   "metadata": {
    "scrolled": true
   },
   "outputs": [],
   "source": [
    "data[\"disk_density\"] = osyris.Array(np.ma.masked_where(np.logical_or(\n",
    "                                 data[\"density\"].values < 3.0e-13,\n",
    "                                 data[\"density\"].values > 1.0e-11),\n",
    "                                                       data[\"density\"].values),\n",
    "                                    unit=data[\"density\"].unit)\n",
    "data"
   ]
  },
  {
   "cell_type": "code",
   "execution_count": null,
   "metadata": {},
   "outputs": [],
   "source": [
    "osyris.plane(data[\"disk_density\"], dx=50, norm=\"log\", origin=center, mode=\"image\")"
   ]
  },
  {
   "cell_type": "code",
   "execution_count": null,
   "metadata": {},
   "outputs": [],
   "source": [
    "np.sum(data[\"disk_density\"]*(data[\"dx\"]*data[\"dx\"]*data[\"dx\"])).to(\"msun\")"
   ]
  },
  {
   "cell_type": "markdown",
   "metadata": {},
   "source": [
    "### 5. Difference between two snapshots\n",
    "\n",
    "Here, we want to make a map of the difference in density between two snapshots. Because we do not necessarily have the same number of cells at the same place, we first have to make uniform 2D maps using the `plot_slice` function, which we can then directly compare.\n",
    "\n",
    "This is done by calling `plot_slice` with the arguments `plot=False` to avoid making a plot, and `copy=True` to return the data to a variable.\n",
    "\n",
    "For this to make sense, the two outputs have to be centered around the same point: `[0.5, 0.5, 0.5]` (which is the default)."
   ]
  },
  {
   "cell_type": "code",
   "execution_count": null,
   "metadata": {},
   "outputs": [],
   "source": [
    "# Read data from a later snapshot\n",
    "data2 = osyris.load(201, scale=\"au\")"
   ]
  },
  {
   "cell_type": "code",
   "execution_count": null,
   "metadata": {},
   "outputs": [],
   "source": [
    "# Extract log(density) slices by copying data into structures\n",
    "plane1 = osyris.plane({\"data\": data[\"density\"], \"norm\": \"log\"},\n",
    "             dx=100,\n",
    "             origin=center,\n",
    "             direction=\"z\", plot=False)\n",
    "\n",
    "plane2 = osyris.plane({\"data\": data2[\"density\"], \"norm\": \"log\"},\n",
    "             dx=100,\n",
    "             origin=center,\n",
    "             direction=\"z\",\n",
    "                     plot=False)\n",
    "\n",
    "# Get coordinates\n",
    "x = plane1.x\n",
    "y = plane1.y\n",
    "\n",
    "# Density difference\n",
    "rho1 = np.log10(plane1.layers[0][\"data\"])\n",
    "rho2 = np.log10(plane2.layers[0][\"data\"])\n",
    "diff = (rho1-rho2)/rho2\n",
    "\n",
    "# Create figure\n",
    "fig, ax = plt.subplots()\n",
    "im = ax.contourf(x, y , diff, cmap='RdBu',\n",
    "                   levels=np.linspace(-0.12,0.12,31))\n",
    "ax.set_aspect(\"equal\")\n",
    "cb = plt.colorbar(im, ax=ax)\n",
    "cb.ax.set_ylabel(\"Relative difference\")"
   ]
  },
  {
   "cell_type": "markdown",
   "metadata": {},
   "source": [
    "### 6. Slice above the origin\n",
    "\n",
    "We want to plot a slice of density but through a point which is 5 AU above the centre of the domain, defined as the cell with the highest density. This is done by setting the `origin` coordinate to `[0, 0, 5]`"
   ]
  },
  {
   "cell_type": "code",
   "execution_count": null,
   "metadata": {},
   "outputs": [],
   "source": [
    "origin = center.copy()\n",
    "origin.values[-1] += 5\n",
    "osyris.plane({\"data\": data[\"density\"], \"norm\": \"log\"},\n",
    "             {\"data\": data[\"velocity\"], \"mode\": \"vec\"},\n",
    "             dx=100,\n",
    "             origin=origin,\n",
    "             direction=\"z\")"
   ]
  }
 ],
 "metadata": {
  "kernelspec": {
   "display_name": "Python 3",
   "language": "python",
   "name": "python3"
  },
  "language_info": {
   "codemirror_mode": {
    "name": "ipython",
    "version": 3
   },
   "file_extension": ".py",
   "mimetype": "text/x-python",
   "name": "python",
   "nbconvert_exporter": "python",
   "pygments_lexer": "ipython3",
   "version": "3.7.9"
  }
 },
 "nbformat": 4,
 "nbformat_minor": 2
}
